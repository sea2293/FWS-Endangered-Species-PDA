{
 "cells": [
  {
   "cell_type": "markdown",
   "id": "55ccd92f",
   "metadata": {},
   "source": [
    "# ESA Recovery Plans"
   ]
  },
  {
   "cell_type": "markdown",
   "id": "ecdcee09",
   "metadata": {},
   "source": [
    "### Data Source:"
   ]
  },
  {
   "cell_type": "markdown",
   "id": "e8002567",
   "metadata": {},
   "source": [
    "Endangered Species Data was collected from the FWS Data Explorer: https://ecos.fws.gov/ecp/report/adhocCreator?catalogId=species&reportId=recoveryDocs&columns=%2FrecoveryDocs@comname,sciname,pop_abbrev,group_text,plan_title,datesort,plan_stage,species_status,lead_region,recovery_region_name"
   ]
  },
  {
   "cell_type": "markdown",
   "id": "007e182b",
   "metadata": {},
   "source": [
    "### Module Imports:"
   ]
  },
  {
   "cell_type": "code",
   "execution_count": 1,
   "id": "e1c89a6c",
   "metadata": {},
   "outputs": [],
   "source": [
    "import pandas as pd\n",
    "import numpy as np\n",
    "import seaborn as sns\n",
    "from matplotlib import pyplot as plt\n",
    "%matplotlib inline\n",
    "plt.style.use('ggplot')\n",
    "sns.set(rc  = {'figure.figsize':(15,8)}, color_codes=True)"
   ]
  },
  {
   "cell_type": "markdown",
   "id": "05b02241",
   "metadata": {},
   "source": [
    "### Data Cleaning:"
   ]
  },
  {
   "cell_type": "code",
   "execution_count": 2,
   "id": "b826ab4e",
   "metadata": {},
   "outputs": [],
   "source": [
    "df = pd.read_csv('Species_With_Recovery_Documents_Data_Explorer.csv')"
   ]
  },
  {
   "cell_type": "code",
   "execution_count": 3,
   "id": "ae805d9d",
   "metadata": {},
   "outputs": [
    {
     "name": "stdout",
     "output_type": "stream",
     "text": [
      "Species Common Name             object\n",
      "Species Scientific Name         object\n",
      "Species Scientific Name_url     object\n",
      "Species Population              object\n",
      "ECOS Species Group              object\n",
      "Recovery Document Date          object\n",
      "Recovery Document Stage         object\n",
      "ESA Listing Status              object\n",
      "Lead Region                      int64\n",
      "Region Name                     object\n",
      "Number of Recovery Actions     float64\n",
      "dtype: object\n"
     ]
    },
    {
     "data": {
      "text/plain": [
       "Index(['Species Common Name', 'Species Scientific Name',\n",
       "       'Species Scientific Name_url', 'Species Population',\n",
       "       'ECOS Species Group', 'Recovery Document Date',\n",
       "       'Recovery Document Stage', 'ESA Listing Status', 'Lead Region',\n",
       "       'Region Name', 'Number of Recovery Actions'],\n",
       "      dtype='object')"
      ]
     },
     "execution_count": 3,
     "metadata": {},
     "output_type": "execute_result"
    }
   ],
   "source": [
    "# check data types and column names\n",
    "print(df.dtypes)\n",
    "df.columns"
   ]
  },
  {
   "cell_type": "code",
   "execution_count": 4,
   "id": "8fa71e3e",
   "metadata": {},
   "outputs": [
    {
     "data": {
      "text/html": [
       "<div>\n",
       "<style scoped>\n",
       "    .dataframe tbody tr th:only-of-type {\n",
       "        vertical-align: middle;\n",
       "    }\n",
       "\n",
       "    .dataframe tbody tr th {\n",
       "        vertical-align: top;\n",
       "    }\n",
       "\n",
       "    .dataframe thead th {\n",
       "        text-align: right;\n",
       "    }\n",
       "</style>\n",
       "<table border=\"1\" class=\"dataframe\">\n",
       "  <thead>\n",
       "    <tr style=\"text-align: right;\">\n",
       "      <th></th>\n",
       "      <th>Species Common Name</th>\n",
       "      <th>Species Scientific Name</th>\n",
       "      <th>Species Scientific Name_url</th>\n",
       "      <th>Species Population</th>\n",
       "      <th>ECOS Species Group</th>\n",
       "      <th>Recovery Document Date</th>\n",
       "      <th>Recovery Document Stage</th>\n",
       "      <th>ESA Listing Status</th>\n",
       "      <th>Lead Region</th>\n",
       "      <th>Region Name</th>\n",
       "      <th>Number of Recovery Actions</th>\n",
       "    </tr>\n",
       "  </thead>\n",
       "  <tbody>\n",
       "    <tr>\n",
       "      <th>0</th>\n",
       "      <td>Indiana bat</td>\n",
       "      <td>Myotis sodalis</td>\n",
       "      <td>https://ecos.fws.gov/ecp/species/5949</td>\n",
       "      <td>Wherever found</td>\n",
       "      <td>Mammals</td>\n",
       "      <td>2007/04/16</td>\n",
       "      <td>Draft Revision 1</td>\n",
       "      <td>E</td>\n",
       "      <td>3</td>\n",
       "      <td>Great Lakes-Big Rivers Region</td>\n",
       "      <td>116.0</td>\n",
       "    </tr>\n",
       "    <tr>\n",
       "      <th>1</th>\n",
       "      <td>Grizzly bear</td>\n",
       "      <td>Ursus arctos horribilis</td>\n",
       "      <td>https://ecos.fws.gov/ecp/species/7642</td>\n",
       "      <td>U.S.A., conterminous (lower 48) States, except...</td>\n",
       "      <td>Mammals</td>\n",
       "      <td>1993/09/10</td>\n",
       "      <td>Final Revision 1</td>\n",
       "      <td>T</td>\n",
       "      <td>6</td>\n",
       "      <td>Mountain-Prairie Region</td>\n",
       "      <td>329.0</td>\n",
       "    </tr>\n",
       "    <tr>\n",
       "      <th>2</th>\n",
       "      <td>Columbian white-tailed deer</td>\n",
       "      <td>Odocoileus virginianus leucurus</td>\n",
       "      <td>https://ecos.fws.gov/ecp/species/154</td>\n",
       "      <td>Columbia River DPS</td>\n",
       "      <td>Mammals</td>\n",
       "      <td>1983/06/14</td>\n",
       "      <td>Final Revision 1</td>\n",
       "      <td>T</td>\n",
       "      <td>1</td>\n",
       "      <td>Pacific Region</td>\n",
       "      <td>14.0</td>\n",
       "    </tr>\n",
       "    <tr>\n",
       "      <th>3</th>\n",
       "      <td>Black-footed ferret</td>\n",
       "      <td>Mustela nigripes</td>\n",
       "      <td>https://ecos.fws.gov/ecp/species/6953</td>\n",
       "      <td>Wherever found, except where listed as an expe...</td>\n",
       "      <td>Mammals</td>\n",
       "      <td>2013/12/23</td>\n",
       "      <td>Final Revision 2</td>\n",
       "      <td>E</td>\n",
       "      <td>6</td>\n",
       "      <td>Mountain-Prairie Region</td>\n",
       "      <td>84.0</td>\n",
       "    </tr>\n",
       "    <tr>\n",
       "      <th>4</th>\n",
       "      <td>San Joaquin kit fox</td>\n",
       "      <td>Vulpes macrotis mutica</td>\n",
       "      <td>https://ecos.fws.gov/ecp/species/2873</td>\n",
       "      <td>wherever found</td>\n",
       "      <td>Mammals</td>\n",
       "      <td>1998/09/30</td>\n",
       "      <td>Final</td>\n",
       "      <td>E</td>\n",
       "      <td>8</td>\n",
       "      <td>California/Nevada Region</td>\n",
       "      <td>84.0</td>\n",
       "    </tr>\n",
       "  </tbody>\n",
       "</table>\n",
       "</div>"
      ],
      "text/plain": [
       "           Species Common Name          Species Scientific Name  \\\n",
       "0                  Indiana bat                   Myotis sodalis   \n",
       "1                 Grizzly bear          Ursus arctos horribilis   \n",
       "2  Columbian white-tailed deer  Odocoileus virginianus leucurus   \n",
       "3          Black-footed ferret                 Mustela nigripes   \n",
       "4          San Joaquin kit fox           Vulpes macrotis mutica   \n",
       "\n",
       "             Species Scientific Name_url  \\\n",
       "0  https://ecos.fws.gov/ecp/species/5949   \n",
       "1  https://ecos.fws.gov/ecp/species/7642   \n",
       "2   https://ecos.fws.gov/ecp/species/154   \n",
       "3  https://ecos.fws.gov/ecp/species/6953   \n",
       "4  https://ecos.fws.gov/ecp/species/2873   \n",
       "\n",
       "                                  Species Population ECOS Species Group  \\\n",
       "0                                     Wherever found            Mammals   \n",
       "1  U.S.A., conterminous (lower 48) States, except...            Mammals   \n",
       "2                                 Columbia River DPS            Mammals   \n",
       "3  Wherever found, except where listed as an expe...            Mammals   \n",
       "4                                     wherever found            Mammals   \n",
       "\n",
       "  Recovery Document Date Recovery Document Stage ESA Listing Status  \\\n",
       "0             2007/04/16        Draft Revision 1                  E   \n",
       "1             1993/09/10        Final Revision 1                  T   \n",
       "2             1983/06/14        Final Revision 1                  T   \n",
       "3             2013/12/23        Final Revision 2                  E   \n",
       "4             1998/09/30                   Final                  E   \n",
       "\n",
       "   Lead Region                    Region Name  Number of Recovery Actions  \n",
       "0            3  Great Lakes-Big Rivers Region                       116.0  \n",
       "1            6        Mountain-Prairie Region                       329.0  \n",
       "2            1                 Pacific Region                        14.0  \n",
       "3            6        Mountain-Prairie Region                        84.0  \n",
       "4            8       California/Nevada Region                        84.0  "
      ]
     },
     "execution_count": 4,
     "metadata": {},
     "output_type": "execute_result"
    }
   ],
   "source": [
    "#displaying snapshot of the dataframe\n",
    "df.head()"
   ]
  },
  {
   "cell_type": "markdown",
   "id": "23942003",
   "metadata": {},
   "source": [
    "Dropping extra columns and renaming columns for consistency across dataframes:"
   ]
  },
  {
   "cell_type": "code",
   "execution_count": 5,
   "id": "e80ac756",
   "metadata": {},
   "outputs": [],
   "source": [
    "# Drop the columns that we will not use for the analysis\n",
    "df = df.drop(['Species Scientific Name_url', 'Lead Region',\n",
    "              'Recovery Document Stage'], axis = 1)\n",
    "#Change data type to date time\n",
    "df['Recovery Document Date'] = pd.to_datetime(df['Recovery Document Date']) \n",
    "# Rename the rest of the columns for easier accessing\n",
    "df = df.rename(columns={'Species Common Name':'Common Name',\n",
    "                        'Species Scientific Name':'Scientific Name',\n",
    "                        'Species Population':'Area',\n",
    "                        'Region Name':'Region',\n",
    "                        'ECOS Species Group':'Group',\n",
    "                        'ESA Listing Status':'Status',\n",
    "                        'Number of Recovery Actions':'Recovery Actions'\n",
    "                        })"
   ]
  },
  {
   "cell_type": "code",
   "execution_count": 6,
   "id": "a9222cf1",
   "metadata": {},
   "outputs": [],
   "source": [
    "df['Scientific Name'] = df['Scientific Name'].str.lower()\n",
    "df['Common Name'] = df['Common Name'].str.lower()\n",
    "df['Area'] = df['Area'].str.lower()"
   ]
  },
  {
   "cell_type": "markdown",
   "id": "a0012dde",
   "metadata": {},
   "source": [
    "Checking for duplicate rows"
   ]
  },
  {
   "cell_type": "code",
   "execution_count": 7,
   "id": "dec61219",
   "metadata": {},
   "outputs": [
    {
     "name": "stdout",
     "output_type": "stream",
     "text": [
      "(1788, 8)\n"
     ]
    },
    {
     "data": {
      "text/plain": [
       "11"
      ]
     },
     "execution_count": 7,
     "metadata": {},
     "output_type": "execute_result"
    }
   ],
   "source": [
    "print(df.shape)\n",
    "df.duplicated().sum()"
   ]
  },
  {
   "cell_type": "code",
   "execution_count": 8,
   "id": "26d2d5f1",
   "metadata": {},
   "outputs": [],
   "source": [
    "df = df.drop_duplicates(subset=None, keep='first', inplace=False, ignore_index=False)"
   ]
  },
  {
   "cell_type": "code",
   "execution_count": 9,
   "id": "abf883db",
   "metadata": {},
   "outputs": [
    {
     "name": "stdout",
     "output_type": "stream",
     "text": [
      "(1777, 8)\n"
     ]
    },
    {
     "data": {
      "text/html": [
       "<div>\n",
       "<style scoped>\n",
       "    .dataframe tbody tr th:only-of-type {\n",
       "        vertical-align: middle;\n",
       "    }\n",
       "\n",
       "    .dataframe tbody tr th {\n",
       "        vertical-align: top;\n",
       "    }\n",
       "\n",
       "    .dataframe thead th {\n",
       "        text-align: right;\n",
       "    }\n",
       "</style>\n",
       "<table border=\"1\" class=\"dataframe\">\n",
       "  <thead>\n",
       "    <tr style=\"text-align: right;\">\n",
       "      <th></th>\n",
       "      <th>Common Name</th>\n",
       "      <th>Scientific Name</th>\n",
       "      <th>Area</th>\n",
       "      <th>Group</th>\n",
       "      <th>Recovery Document Date</th>\n",
       "      <th>Status</th>\n",
       "      <th>Region</th>\n",
       "      <th>Recovery Actions</th>\n",
       "    </tr>\n",
       "  </thead>\n",
       "  <tbody>\n",
       "    <tr>\n",
       "      <th>0</th>\n",
       "      <td>indiana bat</td>\n",
       "      <td>myotis sodalis</td>\n",
       "      <td>wherever found</td>\n",
       "      <td>Mammals</td>\n",
       "      <td>2007-04-16</td>\n",
       "      <td>E</td>\n",
       "      <td>Great Lakes-Big Rivers Region</td>\n",
       "      <td>116.0</td>\n",
       "    </tr>\n",
       "    <tr>\n",
       "      <th>1</th>\n",
       "      <td>grizzly bear</td>\n",
       "      <td>ursus arctos horribilis</td>\n",
       "      <td>u.s.a., conterminous (lower 48) states, except...</td>\n",
       "      <td>Mammals</td>\n",
       "      <td>1993-09-10</td>\n",
       "      <td>T</td>\n",
       "      <td>Mountain-Prairie Region</td>\n",
       "      <td>329.0</td>\n",
       "    </tr>\n",
       "    <tr>\n",
       "      <th>2</th>\n",
       "      <td>columbian white-tailed deer</td>\n",
       "      <td>odocoileus virginianus leucurus</td>\n",
       "      <td>columbia river dps</td>\n",
       "      <td>Mammals</td>\n",
       "      <td>1983-06-14</td>\n",
       "      <td>T</td>\n",
       "      <td>Pacific Region</td>\n",
       "      <td>14.0</td>\n",
       "    </tr>\n",
       "    <tr>\n",
       "      <th>3</th>\n",
       "      <td>black-footed ferret</td>\n",
       "      <td>mustela nigripes</td>\n",
       "      <td>wherever found, except where listed as an expe...</td>\n",
       "      <td>Mammals</td>\n",
       "      <td>2013-12-23</td>\n",
       "      <td>E</td>\n",
       "      <td>Mountain-Prairie Region</td>\n",
       "      <td>84.0</td>\n",
       "    </tr>\n",
       "    <tr>\n",
       "      <th>4</th>\n",
       "      <td>san joaquin kit fox</td>\n",
       "      <td>vulpes macrotis mutica</td>\n",
       "      <td>wherever found</td>\n",
       "      <td>Mammals</td>\n",
       "      <td>1998-09-30</td>\n",
       "      <td>E</td>\n",
       "      <td>California/Nevada Region</td>\n",
       "      <td>84.0</td>\n",
       "    </tr>\n",
       "  </tbody>\n",
       "</table>\n",
       "</div>"
      ],
      "text/plain": [
       "                   Common Name                  Scientific Name  \\\n",
       "0                  indiana bat                   myotis sodalis   \n",
       "1                 grizzly bear          ursus arctos horribilis   \n",
       "2  columbian white-tailed deer  odocoileus virginianus leucurus   \n",
       "3          black-footed ferret                 mustela nigripes   \n",
       "4          san joaquin kit fox           vulpes macrotis mutica   \n",
       "\n",
       "                                                Area    Group  \\\n",
       "0                                     wherever found  Mammals   \n",
       "1  u.s.a., conterminous (lower 48) states, except...  Mammals   \n",
       "2                                 columbia river dps  Mammals   \n",
       "3  wherever found, except where listed as an expe...  Mammals   \n",
       "4                                     wherever found  Mammals   \n",
       "\n",
       "  Recovery Document Date Status                         Region  \\\n",
       "0             2007-04-16      E  Great Lakes-Big Rivers Region   \n",
       "1             1993-09-10      T        Mountain-Prairie Region   \n",
       "2             1983-06-14      T                 Pacific Region   \n",
       "3             2013-12-23      E        Mountain-Prairie Region   \n",
       "4             1998-09-30      E       California/Nevada Region   \n",
       "\n",
       "   Recovery Actions  \n",
       "0             116.0  \n",
       "1             329.0  \n",
       "2              14.0  \n",
       "3              84.0  \n",
       "4              84.0  "
      ]
     },
     "execution_count": 9,
     "metadata": {},
     "output_type": "execute_result"
    }
   ],
   "source": [
    "# checking the cleaning process\n",
    "print(df.shape)\n",
    "df.head()"
   ]
  },
  {
   "cell_type": "markdown",
   "id": "0a23ac06",
   "metadata": {},
   "source": [
    "Checking the null values: Because many of the recovery plans are not finished, I am expecting null values"
   ]
  },
  {
   "cell_type": "code",
   "execution_count": 10,
   "id": "97b64008",
   "metadata": {},
   "outputs": [
    {
     "name": "stdout",
     "output_type": "stream",
     "text": [
      "Common Name                 0\n",
      "Scientific Name             0\n",
      "Area                       94\n",
      "Group                       0\n",
      "Recovery Document Date      0\n",
      "Status                      0\n",
      "Region                      0\n",
      "Recovery Actions          305\n",
      "dtype: int64\n"
     ]
    }
   ],
   "source": [
    "print(df.isnull().sum())"
   ]
  },
  {
   "cell_type": "markdown",
   "id": "f3737801",
   "metadata": {},
   "source": [
    "Now the dataframe is ready for analysis. I convert the copy (without subtotals) to a new csv"
   ]
  },
  {
   "cell_type": "code",
   "execution_count": 11,
   "id": "d50dc0d4",
   "metadata": {},
   "outputs": [],
   "source": [
    "df.to_csv('esa_recovery_plans.csv', index=False)"
   ]
  }
 ],
 "metadata": {
  "kernelspec": {
   "display_name": "Python 3 (ipykernel)",
   "language": "python",
   "name": "python3"
  },
  "language_info": {
   "codemirror_mode": {
    "name": "ipython",
    "version": 3
   },
   "file_extension": ".py",
   "mimetype": "text/x-python",
   "name": "python",
   "nbconvert_exporter": "python",
   "pygments_lexer": "ipython3",
   "version": "3.9.7"
  }
 },
 "nbformat": 4,
 "nbformat_minor": 5
}
