{
 "cells": [
  {
   "cell_type": "markdown",
   "id": "ce7bd316",
   "metadata": {},
   "source": [
    "# ESA Data Analysis\n"
   ]
  },
  {
   "cell_type": "markdown",
   "id": "8aa0469e",
   "metadata": {},
   "source": [
    "### Import necessary modules"
   ]
  },
  {
   "cell_type": "code",
   "execution_count": 1,
   "id": "2ae9480c",
   "metadata": {},
   "outputs": [],
   "source": [
    "import pandas as pd\n",
    "import numpy as np\n",
    "import seaborn as sns\n",
    "from matplotlib import pyplot as plt\n",
    "%matplotlib inline\n",
    "plt.style.use('ggplot')\n",
    "sns.set(rc = {'figure.figsize':(15,8)}, color_codes=True)"
   ]
  },
  {
   "cell_type": "markdown",
   "id": "adecce4e",
   "metadata": {},
   "source": [
    "## 2017 Expenditures Data"
   ]
  },
  {
   "cell_type": "code",
   "execution_count": 78,
   "id": "03177911",
   "metadata": {},
   "outputs": [
    {
     "data": {
      "text/html": [
       "<div>\n",
       "<style scoped>\n",
       "    .dataframe tbody tr th:only-of-type {\n",
       "        vertical-align: middle;\n",
       "    }\n",
       "\n",
       "    .dataframe tbody tr th {\n",
       "        vertical-align: top;\n",
       "    }\n",
       "\n",
       "    .dataframe thead th {\n",
       "        text-align: right;\n",
       "    }\n",
       "</style>\n",
       "<table border=\"1\" class=\"dataframe\">\n",
       "  <thead>\n",
       "    <tr style=\"text-align: right;\">\n",
       "      <th></th>\n",
       "      <th>Group</th>\n",
       "      <th>Status</th>\n",
       "      <th>Scientific Name</th>\n",
       "      <th>Inverted Common Name</th>\n",
       "      <th>FWS 2017</th>\n",
       "      <th>Other Fed 2017</th>\n",
       "      <th>States 2017</th>\n",
       "      <th>Total 2017</th>\n",
       "      <th>Area</th>\n",
       "    </tr>\n",
       "  </thead>\n",
       "  <tbody>\n",
       "    <tr>\n",
       "      <th>0</th>\n",
       "      <td>Amphibians</td>\n",
       "      <td>E</td>\n",
       "      <td>arroyo southwestern</td>\n",
       "      <td>Toad, arroyo</td>\n",
       "      <td>245087</td>\n",
       "      <td>375272</td>\n",
       "      <td>0</td>\n",
       "      <td>620359</td>\n",
       "      <td>NaN</td>\n",
       "    </tr>\n",
       "    <tr>\n",
       "      <th>1</th>\n",
       "      <td>Amphibians</td>\n",
       "      <td>T</td>\n",
       "      <td>Ambystoma californiense</td>\n",
       "      <td>Salamander, California tiger</td>\n",
       "      <td>737957</td>\n",
       "      <td>1052249</td>\n",
       "      <td>0</td>\n",
       "      <td>1790206</td>\n",
       "      <td>U.S.A.</td>\n",
       "    </tr>\n",
       "    <tr>\n",
       "      <th>2</th>\n",
       "      <td>Amphibians</td>\n",
       "      <td>E</td>\n",
       "      <td>Ambystoma californiense</td>\n",
       "      <td>Salamander, California tiger</td>\n",
       "      <td>570447</td>\n",
       "      <td>52156</td>\n",
       "      <td>0</td>\n",
       "      <td>622603</td>\n",
       "      <td>U.S.A.</td>\n",
       "    </tr>\n",
       "    <tr>\n",
       "      <th>3</th>\n",
       "      <td>Amphibians</td>\n",
       "      <td>E</td>\n",
       "      <td>Ambystoma californiense</td>\n",
       "      <td>Salamander, California tiger</td>\n",
       "      <td>541608</td>\n",
       "      <td>100600</td>\n",
       "      <td>0</td>\n",
       "      <td>642208</td>\n",
       "      <td>U.S.A.</td>\n",
       "    </tr>\n",
       "    <tr>\n",
       "      <th>4</th>\n",
       "      <td>Amphibians</td>\n",
       "      <td>E</td>\n",
       "      <td>Eurycea sosorum</td>\n",
       "      <td>Salamander, Barton Springs</td>\n",
       "      <td>15000</td>\n",
       "      <td>300</td>\n",
       "      <td>0</td>\n",
       "      <td>15300</td>\n",
       "      <td>Wherever found</td>\n",
       "    </tr>\n",
       "  </tbody>\n",
       "</table>\n",
       "</div>"
      ],
      "text/plain": [
       "        Group Status           Scientific Name           Inverted Common Name  \\\n",
       "0  Amphibians      E      arroyo southwestern                   Toad, arroyo    \n",
       "1  Amphibians      T  Ambystoma californiense   Salamander, California tiger    \n",
       "2  Amphibians      E  Ambystoma californiense   Salamander, California tiger    \n",
       "3  Amphibians      E  Ambystoma californiense   Salamander, California tiger    \n",
       "4  Amphibians      E          Eurycea sosorum     Salamander, Barton Springs    \n",
       "\n",
       "   FWS 2017  Other Fed 2017  States 2017  Total 2017             Area  \n",
       "0    245087          375272            0      620359              NaN  \n",
       "1    737957         1052249            0     1790206          U.S.A.   \n",
       "2    570447           52156            0      622603          U.S.A.   \n",
       "3    541608          100600            0      642208          U.S.A.   \n",
       "4     15000             300            0       15300   Wherever found  "
      ]
     },
     "execution_count": 78,
     "metadata": {},
     "output_type": "execute_result"
    }
   ],
   "source": [
    "expend2017_df = pd.read_csv('esa_expenditures2017.csv')\n",
    "expend2017_df = expend2017_df[['Group','Status','Scientific Name',\n",
    "                 'Inverted Common Name','FWS 2017','Other Fed 2017',\n",
    "                            'States 2017','Total 2017','Area']]\n",
    "expend2017_df.head()"
   ]
  },
  {
   "cell_type": "markdown",
   "id": "97e85524",
   "metadata": {},
   "source": [
    "Let's take a look at the funding distribution per group:"
   ]
  },
  {
   "cell_type": "code",
   "execution_count": 87,
   "id": "3080ec6c",
   "metadata": {},
   "outputs": [
    {
     "data": {
      "text/plain": [
       "Text(0.5, 1.0, 'FY 2017 Total Funding in USD per Group')"
      ]
     },
     "execution_count": 87,
     "metadata": {},
     "output_type": "execute_result"
    },
    {
     "data": {
      "image/png": "[encoded data removed]",
      "text/plain": [
       "<Figure size 864x432 with 1 Axes>"
      ]
     },
     "metadata": {},
     "output_type": "display_data"
    }
   ],
   "source": [
    "#barplot of the total funding received by each group\n",
    "plt.figure(figsize = (12,6))\n",
    "expend2017_df.groupby('Group')['Total 2017'].sum().sort_values(ascending=False).plot.bar(color = 'g')\n",
    "plt.xlabel('Group')\n",
    "plt.ylabel('USD')\n",
    "plt.title('FY 2017 Total Funding in USD per Group')"
   ]
  },
  {
   "cell_type": "markdown",
   "id": "873de0f2",
   "metadata": {},
   "source": [
    "Now let's take a look at the top 10 funded species populations:"
   ]
  },
  {
   "cell_type": "code",
   "execution_count": 79,
   "id": "b836b5cd",
   "metadata": {},
   "outputs": [],
   "source": [
    "_2017top_10 = expend2017_df.sort_values(by=\"Total 2017\", ascending=False).head(10)"
   ]
  },
  {
   "cell_type": "code",
   "execution_count": 73,
   "id": "e6516d43",
   "metadata": {
    "scrolled": true
   },
   "outputs": [
    {
     "data": {
      "text/plain": [
       "<AxesSubplot:xlabel='Inverted Common Name'>"
      ]
     },
     "execution_count": 73,
     "metadata": {},
     "output_type": "execute_result"
    },
    {
     "data": {
      "image/png": "[encoded data removed]",
      "text/plain": [
       "<Figure size 1080x576 with 1 Axes>"
      ]
     },
     "metadata": {},
     "output_type": "display_data"
    }
   ],
   "source": [
    "_2017top_10.plot(x=\"Inverted Common Name\", y=\"Total 2017\", kind=\"bar\", rot=10, fontsize=12)"
   ]
  },
  {
   "cell_type": "markdown",
   "id": "618cf940",
   "metadata": {},
   "source": [
    "The top 10 most funded species populations account for only 4 species...\n",
    "All of which are in the Fishes Group in 2017."
   ]
  },
  {
   "cell_type": "code",
   "execution_count": 77,
   "id": "4d4a4b03",
   "metadata": {},
   "outputs": [
    {
     "data": {
      "text/plain": [
       "<AxesSubplot:xlabel='Inverted Common Name', ylabel='count'>"
      ]
     },
     "execution_count": 77,
     "metadata": {},
     "output_type": "execute_result"
    },
    {
     "data": {
      "image/png": "[encoded data removed]",
      "text/plain": [
       "<Figure size 1080x576 with 1 Axes>"
      ]
     },
     "metadata": {},
     "output_type": "display_data"
    }
   ],
   "source": [
    "sns.countplot(x=\"Inverted Common Name\", data=_2017top_10, palette=\"rainbow\")"
   ]
  },
  {
   "cell_type": "markdown",
   "id": "3665b2fd",
   "metadata": {},
   "source": [
    "## 2018 Expenditures Data"
   ]
  },
  {
   "cell_type": "code",
   "execution_count": 80,
   "id": "c464778b",
   "metadata": {},
   "outputs": [
    {
     "data": {
      "text/html": [
       "<div>\n",
       "<style scoped>\n",
       "    .dataframe tbody tr th:only-of-type {\n",
       "        vertical-align: middle;\n",
       "    }\n",
       "\n",
       "    .dataframe tbody tr th {\n",
       "        vertical-align: top;\n",
       "    }\n",
       "\n",
       "    .dataframe thead th {\n",
       "        text-align: right;\n",
       "    }\n",
       "</style>\n",
       "<table border=\"1\" class=\"dataframe\">\n",
       "  <thead>\n",
       "    <tr style=\"text-align: right;\">\n",
       "      <th></th>\n",
       "      <th>Group</th>\n",
       "      <th>Status</th>\n",
       "      <th>Scientific Name</th>\n",
       "      <th>Inverted Common Name</th>\n",
       "      <th>FWS 2018</th>\n",
       "      <th>Other Fed 2018</th>\n",
       "      <th>States 2018</th>\n",
       "      <th>Total 2018</th>\n",
       "      <th>Area</th>\n",
       "    </tr>\n",
       "  </thead>\n",
       "  <tbody>\n",
       "    <tr>\n",
       "      <th>0</th>\n",
       "      <td>Amphibians</td>\n",
       "      <td>T</td>\n",
       "      <td>Peltophryne lemur</td>\n",
       "      <td>Toad, Puerto Rican crested</td>\n",
       "      <td>5000</td>\n",
       "      <td>142491</td>\n",
       "      <td>0</td>\n",
       "      <td>147491</td>\n",
       "      <td>Wherever found</td>\n",
       "    </tr>\n",
       "    <tr>\n",
       "      <th>1</th>\n",
       "      <td>Amphibians</td>\n",
       "      <td>E</td>\n",
       "      <td>Bufo hemiophrys baxteri</td>\n",
       "      <td>Toad, Wyoming</td>\n",
       "      <td>331300</td>\n",
       "      <td>14500</td>\n",
       "      <td>15251</td>\n",
       "      <td>361051</td>\n",
       "      <td>Wherever found</td>\n",
       "    </tr>\n",
       "    <tr>\n",
       "      <th>2</th>\n",
       "      <td>Amphibians</td>\n",
       "      <td>E</td>\n",
       "      <td>Rana muscosa</td>\n",
       "      <td>Frog, mountain yellow-legged</td>\n",
       "      <td>76115</td>\n",
       "      <td>60706</td>\n",
       "      <td>0</td>\n",
       "      <td>136821</td>\n",
       "      <td>Southern California DPS</td>\n",
       "    </tr>\n",
       "    <tr>\n",
       "      <th>3</th>\n",
       "      <td>Amphibians</td>\n",
       "      <td>E</td>\n",
       "      <td>Bufo houstonensis</td>\n",
       "      <td>Toad, Houston</td>\n",
       "      <td>111000</td>\n",
       "      <td>132007</td>\n",
       "      <td>4387</td>\n",
       "      <td>247394</td>\n",
       "      <td>Wherever found</td>\n",
       "    </tr>\n",
       "    <tr>\n",
       "      <th>4</th>\n",
       "      <td>Amphibians</td>\n",
       "      <td>E</td>\n",
       "      <td>arroyo southwestern</td>\n",
       "      <td>Toad, arroyo</td>\n",
       "      <td>257341</td>\n",
       "      <td>737609</td>\n",
       "      <td>0</td>\n",
       "      <td>994950</td>\n",
       "      <td>NaN</td>\n",
       "    </tr>\n",
       "  </tbody>\n",
       "</table>\n",
       "</div>"
      ],
      "text/plain": [
       "        Group Status           Scientific Name           Inverted Common Name  \\\n",
       "0  Amphibians      T        Peltophryne lemur     Toad, Puerto Rican crested    \n",
       "1  Amphibians      E  Bufo hemiophrys baxteri                  Toad, Wyoming    \n",
       "2  Amphibians      E             Rana muscosa   Frog, mountain yellow-legged    \n",
       "3  Amphibians      E        Bufo houstonensis                  Toad, Houston    \n",
       "4  Amphibians      E      arroyo southwestern                   Toad, arroyo    \n",
       "\n",
       "   FWS 2018  Other Fed 2018  States 2018  Total 2018                      Area  \n",
       "0      5000          142491            0      147491            Wherever found  \n",
       "1    331300           14500        15251      361051            Wherever found  \n",
       "2     76115           60706            0      136821   Southern California DPS  \n",
       "3    111000          132007         4387      247394            Wherever found  \n",
       "4    257341          737609            0      994950                       NaN  "
      ]
     },
     "execution_count": 80,
     "metadata": {},
     "output_type": "execute_result"
    }
   ],
   "source": [
    "expend2018_df = pd.read_csv('esa_expenditures2018.csv')\n",
    "expend2018_df = expend2018_df[['Group','Status','Scientific Name',\n",
    "                                'Inverted Common Name','FWS 2018',\n",
    "                               'Other Fed 2018','States 2018',\n",
    "                               'Total 2018','Area']]\n",
    "expend2018_df.head()"
   ]
  },
  {
   "cell_type": "markdown",
   "id": "aa0e07b8",
   "metadata": {},
   "source": [
    "Let's take a look at the funding distribution per group:"
   ]
  },
  {
   "cell_type": "code",
   "execution_count": 102,
   "id": "bb14b8e3",
   "metadata": {},
   "outputs": [
    {
     "data": {
      "text/plain": [
       "Group\n",
       "Fishes                 4.440573e+09\n",
       "Birds                  1.587444e+08\n",
       "Mammals                1.005443e+08\n",
       "Reptiles               5.496528e+07\n",
       "Flowering Plants       2.767444e+07\n",
       "Amphibians             1.464664e+07\n",
       "Insects                1.301669e+07\n",
       "Clams                  7.854041e+06\n",
       "Snails                 5.250602e+06\n",
       "Crustaceans            3.325229e+06\n",
       "Corals                 1.863272e+06\n",
       "Ferns and Allies       5.630130e+05\n",
       "Conifers and Cycads    2.532240e+05\n",
       "Arachnids              9.100200e+04\n",
       "Lichens                4.140000e+04\n",
       "Name: Total 2018, dtype: float64"
      ]
     },
     "execution_count": 102,
     "metadata": {},
     "output_type": "execute_result"
    }
   ],
   "source": [
    "expend_df.groupby('Group')['Total 2018'].sum().sort_values(ascending=False)"
   ]
  },
  {
   "cell_type": "code",
   "execution_count": 85,
   "id": "763e074b",
   "metadata": {},
   "outputs": [
    {
     "data": {
      "text/plain": [
       "Text(0.5, 1.0, 'FY 2018 Total Funding in USD per Group')"
      ]
     },
     "execution_count": 85,
     "metadata": {},
     "output_type": "execute_result"
    },
    {
     "data": {
      "image/png": "[encoded data removed]",
      "text/plain": [
       "<Figure size 864x432 with 1 Axes>"
      ]
     },
     "metadata": {},
     "output_type": "display_data"
    }
   ],
   "source": [
    "#barplot of the total funding received by each group\n",
    "plt.figure(figsize = (12,6))\n",
    "expend_df.groupby('Group')['Total 2018'].sum().sort_values(ascending=False).plot.bar(color = 'g')\n",
    "plt.xlabel('Group')\n",
    "plt.ylabel('USD')\n",
    "plt.title('FY 2018 Total Funding in USD per Group')"
   ]
  },
  {
   "cell_type": "markdown",
   "id": "9b5ecd20",
   "metadata": {},
   "source": [
    "From the above graph, it is clear that the funding is unevenly distributed, with the Fishes group receiving the majority of total funding"
   ]
  },
  {
   "cell_type": "code",
   "execution_count": 81,
   "id": "9e38f186",
   "metadata": {},
   "outputs": [],
   "source": [
    "_2018top_10 = expend2018_df.sort_values(by=\"Total 2018\", ascending=False).head(10)"
   ]
  },
  {
   "cell_type": "code",
   "execution_count": 89,
   "id": "7dcadf90",
   "metadata": {},
   "outputs": [
    {
     "data": {
      "text/plain": [
       "<AxesSubplot:xlabel='Inverted Common Name'>"
      ]
     },
     "execution_count": 89,
     "metadata": {},
     "output_type": "execute_result"
    },
    {
     "data": {
      "image/png": "[encoded data removed]",
      "text/plain": [
       "<Figure size 1080x576 with 1 Axes>"
      ]
     },
     "metadata": {},
     "output_type": "display_data"
    }
   ],
   "source": [
    "_2018top_10.plot(x=\"Inverted Common Name\", y=\"Total 2018\", kind=\"bar\", rot=10, fontsize=12)"
   ]
  },
  {
   "cell_type": "markdown",
   "id": "faabb3a1",
   "metadata": {},
   "source": [
    "The top 10 most funded species populations account for only 4 species...\n",
    "3 of which are in the Fishes Group in 2018."
   ]
  },
  {
   "cell_type": "code",
   "execution_count": 82,
   "id": "5de83696",
   "metadata": {},
   "outputs": [
    {
     "data": {
      "text/plain": [
       "<AxesSubplot:xlabel='Inverted Common Name', ylabel='count'>"
      ]
     },
     "execution_count": 82,
     "metadata": {},
     "output_type": "execute_result"
    },
    {
     "data": {
      "image/png": "[encoded data removed]",
      "text/plain": [
       "<Figure size 1080x576 with 1 Axes>"
      ]
     },
     "metadata": {},
     "output_type": "display_data"
    }
   ],
   "source": [
    "sns.countplot(x=\"Inverted Common Name\", data=_2018top_10, palette=\"rainbow\")"
   ]
  },
  {
   "cell_type": "markdown",
   "id": "8d15143e",
   "metadata": {},
   "source": [
    "## Merged Expenditures Data"
   ]
  },
  {
   "cell_type": "code",
   "execution_count": 46,
   "id": "756e36eb",
   "metadata": {},
   "outputs": [],
   "source": [
    "expend_df = expend2018_df.merge(expend2017_df, how=\"inner\", \n",
    "                 on=['Group','Scientific Name','Inverted Common Name','Status','Area'])"
   ]
  },
  {
   "cell_type": "code",
   "execution_count": 83,
   "id": "ca11a364",
   "metadata": {},
   "outputs": [
    {
     "data": {
      "text/html": [
       "<div>\n",
       "<style scoped>\n",
       "    .dataframe tbody tr th:only-of-type {\n",
       "        vertical-align: middle;\n",
       "    }\n",
       "\n",
       "    .dataframe tbody tr th {\n",
       "        vertical-align: top;\n",
       "    }\n",
       "\n",
       "    .dataframe thead th {\n",
       "        text-align: right;\n",
       "    }\n",
       "</style>\n",
       "<table border=\"1\" class=\"dataframe\">\n",
       "  <thead>\n",
       "    <tr style=\"text-align: right;\">\n",
       "      <th></th>\n",
       "      <th>FWS 2018</th>\n",
       "      <th>Other Fed 2018</th>\n",
       "      <th>States 2018</th>\n",
       "      <th>Total 2018</th>\n",
       "      <th>FWS 2017</th>\n",
       "      <th>Other Fed 2017</th>\n",
       "      <th>States 2017</th>\n",
       "      <th>Total 2017</th>\n",
       "    </tr>\n",
       "  </thead>\n",
       "  <tbody>\n",
       "    <tr>\n",
       "      <th>count</th>\n",
       "      <td>1.710000e+03</td>\n",
       "      <td>1.710000e+03</td>\n",
       "      <td>1.710000e+03</td>\n",
       "      <td>1.710000e+03</td>\n",
       "      <td>1.710000e+03</td>\n",
       "      <td>1.710000e+03</td>\n",
       "      <td>1.710000e+03</td>\n",
       "      <td>1.710000e+03</td>\n",
       "    </tr>\n",
       "    <tr>\n",
       "      <th>mean</th>\n",
       "      <td>9.058134e+04</td>\n",
       "      <td>2.334019e+06</td>\n",
       "      <td>3.996140e+05</td>\n",
       "      <td>2.824214e+06</td>\n",
       "      <td>1.042400e+05</td>\n",
       "      <td>2.505335e+06</td>\n",
       "      <td>8.282730e+04</td>\n",
       "      <td>2.691927e+06</td>\n",
       "    </tr>\n",
       "    <tr>\n",
       "      <th>std</th>\n",
       "      <td>3.000434e+05</td>\n",
       "      <td>8.559222e+06</td>\n",
       "      <td>4.091161e+06</td>\n",
       "      <td>1.007234e+07</td>\n",
       "      <td>3.656579e+05</td>\n",
       "      <td>1.077552e+07</td>\n",
       "      <td>4.190183e+05</td>\n",
       "      <td>1.099588e+07</td>\n",
       "    </tr>\n",
       "    <tr>\n",
       "      <th>min</th>\n",
       "      <td>0.000000e+00</td>\n",
       "      <td>0.000000e+00</td>\n",
       "      <td>0.000000e+00</td>\n",
       "      <td>2.000000e+01</td>\n",
       "      <td>0.000000e+00</td>\n",
       "      <td>0.000000e+00</td>\n",
       "      <td>0.000000e+00</td>\n",
       "      <td>4.000000e+01</td>\n",
       "    </tr>\n",
       "    <tr>\n",
       "      <th>25%</th>\n",
       "      <td>5.000000e+03</td>\n",
       "      <td>0.000000e+00</td>\n",
       "      <td>0.000000e+00</td>\n",
       "      <td>7.838500e+03</td>\n",
       "      <td>4.731500e+03</td>\n",
       "      <td>0.000000e+00</td>\n",
       "      <td>0.000000e+00</td>\n",
       "      <td>9.432750e+03</td>\n",
       "    </tr>\n",
       "    <tr>\n",
       "      <th>50%</th>\n",
       "      <td>1.009800e+04</td>\n",
       "      <td>3.041000e+03</td>\n",
       "      <td>0.000000e+00</td>\n",
       "      <td>2.340550e+04</td>\n",
       "      <td>1.067000e+04</td>\n",
       "      <td>4.750000e+03</td>\n",
       "      <td>0.000000e+00</td>\n",
       "      <td>2.894800e+04</td>\n",
       "    </tr>\n",
       "    <tr>\n",
       "      <th>75%</th>\n",
       "      <td>5.637500e+04</td>\n",
       "      <td>6.437500e+04</td>\n",
       "      <td>0.000000e+00</td>\n",
       "      <td>2.099945e+05</td>\n",
       "      <td>5.082025e+04</td>\n",
       "      <td>1.267875e+05</td>\n",
       "      <td>7.000000e+02</td>\n",
       "      <td>2.340890e+05</td>\n",
       "    </tr>\n",
       "    <tr>\n",
       "      <th>max</th>\n",
       "      <td>5.946849e+06</td>\n",
       "      <td>5.963197e+07</td>\n",
       "      <td>6.306780e+07</td>\n",
       "      <td>7.382530e+07</td>\n",
       "      <td>6.610558e+06</td>\n",
       "      <td>1.179275e+08</td>\n",
       "      <td>5.428723e+06</td>\n",
       "      <td>1.192271e+08</td>\n",
       "    </tr>\n",
       "  </tbody>\n",
       "</table>\n",
       "</div>"
      ],
      "text/plain": [
       "           FWS 2018  Other Fed 2018   States 2018    Total 2018      FWS 2017  \\\n",
       "count  1.710000e+03    1.710000e+03  1.710000e+03  1.710000e+03  1.710000e+03   \n",
       "mean   9.058134e+04    2.334019e+06  3.996140e+05  2.824214e+06  1.042400e+05   \n",
       "std    3.000434e+05    8.559222e+06  4.091161e+06  1.007234e+07  3.656579e+05   \n",
       "min    0.000000e+00    0.000000e+00  0.000000e+00  2.000000e+01  0.000000e+00   \n",
       "25%    5.000000e+03    0.000000e+00  0.000000e+00  7.838500e+03  4.731500e+03   \n",
       "50%    1.009800e+04    3.041000e+03  0.000000e+00  2.340550e+04  1.067000e+04   \n",
       "75%    5.637500e+04    6.437500e+04  0.000000e+00  2.099945e+05  5.082025e+04   \n",
       "max    5.946849e+06    5.963197e+07  6.306780e+07  7.382530e+07  6.610558e+06   \n",
       "\n",
       "       Other Fed 2017   States 2017    Total 2017  \n",
       "count    1.710000e+03  1.710000e+03  1.710000e+03  \n",
       "mean     2.505335e+06  8.282730e+04  2.691927e+06  \n",
       "std      1.077552e+07  4.190183e+05  1.099588e+07  \n",
       "min      0.000000e+00  0.000000e+00  4.000000e+01  \n",
       "25%      0.000000e+00  0.000000e+00  9.432750e+03  \n",
       "50%      4.750000e+03  0.000000e+00  2.894800e+04  \n",
       "75%      1.267875e+05  7.000000e+02  2.340890e+05  \n",
       "max      1.179275e+08  5.428723e+06  1.192271e+08  "
      ]
     },
     "execution_count": 83,
     "metadata": {},
     "output_type": "execute_result"
    }
   ],
   "source": [
    "# Stats for combined FY 2017 - 2018\n",
    "expend_df.describe()"
   ]
  },
  {
   "cell_type": "code",
   "execution_count": 84,
   "id": "2aab3737",
   "metadata": {},
   "outputs": [
    {
     "data": {
      "text/plain": [
       "<AxesSubplot:xlabel='count', ylabel='Group'>"
      ]
     },
     "execution_count": 84,
     "metadata": {},
     "output_type": "execute_result"
    },
    {
     "data": {
      "image/png": "[encoded data removed]",
      "text/plain": [
       "<Figure size 1080x576 with 1 Axes>"
      ]
     },
     "metadata": {},
     "output_type": "display_data"
    }
   ],
   "source": [
    "# Count totals for each species group\n",
    "sns.countplot(data = expend_df, y = 'Group')"
   ]
  },
  {
   "cell_type": "code",
   "execution_count": 51,
   "id": "ddc80fd5",
   "metadata": {},
   "outputs": [
    {
     "data": {
      "text/plain": [
       "<AxesSubplot:xlabel='Status', ylabel='count'>"
      ]
     },
     "execution_count": 51,
     "metadata": {},
     "output_type": "execute_result"
    },
    {
     "data": {
      "image/png": "[encoded data removed]",
      "text/plain": [
       "<Figure size 1080x576 with 1 Axes>"
      ]
     },
     "metadata": {},
     "output_type": "display_data"
    }
   ],
   "source": [
    "sns.countplot(data = expend_df, x = 'Status')"
   ]
  },
  {
   "cell_type": "markdown",
   "id": "93dc8e5e",
   "metadata": {},
   "source": [
    "## ESA Species Data"
   ]
  },
  {
   "cell_type": "code",
   "execution_count": 23,
   "id": "2fc1fdfd",
   "metadata": {},
   "outputs": [
    {
     "name": "stdout",
     "output_type": "stream",
     "text": [
      "(10318, 9)\n",
      "Index(['Common Name', 'Scientific Name', 'Status', 'Area', 'Listing Date',\n",
      "       'Location', 'Inverted Common Name', 'Group', 'Status Category'],\n",
      "      dtype='object')\n"
     ]
    },
    {
     "data": {
      "text/html": [
       "<div>\n",
       "<style scoped>\n",
       "    .dataframe tbody tr th:only-of-type {\n",
       "        vertical-align: middle;\n",
       "    }\n",
       "\n",
       "    .dataframe tbody tr th {\n",
       "        vertical-align: top;\n",
       "    }\n",
       "\n",
       "    .dataframe thead th {\n",
       "        text-align: right;\n",
       "    }\n",
       "</style>\n",
       "<table border=\"1\" class=\"dataframe\">\n",
       "  <thead>\n",
       "    <tr style=\"text-align: right;\">\n",
       "      <th></th>\n",
       "      <th>Group</th>\n",
       "      <th>Status</th>\n",
       "      <th>Scientific Name</th>\n",
       "      <th>Common Name</th>\n",
       "      <th>Location</th>\n",
       "      <th>Status Category</th>\n",
       "      <th>Listing Date</th>\n",
       "      <th>Inverted Common Name</th>\n",
       "      <th>Area</th>\n",
       "    </tr>\n",
       "  </thead>\n",
       "  <tbody>\n",
       "    <tr>\n",
       "      <th>0</th>\n",
       "      <td>Algae</td>\n",
       "      <td>E</td>\n",
       "      <td>Isogomphodon oxyrhynchus</td>\n",
       "      <td>Daggernose Shark</td>\n",
       "      <td>Foreign</td>\n",
       "      <td>Listed</td>\n",
       "      <td>NaN</td>\n",
       "      <td>Shark, Daggernose</td>\n",
       "      <td>NaN</td>\n",
       "    </tr>\n",
       "    <tr>\n",
       "      <th>1</th>\n",
       "      <td>Amphibians</td>\n",
       "      <td>UR</td>\n",
       "      <td>Desmognathus abditus</td>\n",
       "      <td>Cumberland Dusky salamander</td>\n",
       "      <td>Domestic</td>\n",
       "      <td>Petitioned for Listing, Under Review</td>\n",
       "      <td>NaN</td>\n",
       "      <td>salamander, Cumberland Dusky</td>\n",
       "      <td>Wherever found</td>\n",
       "    </tr>\n",
       "    <tr>\n",
       "      <th>2</th>\n",
       "      <td>Amphibians</td>\n",
       "      <td>SC</td>\n",
       "      <td>Plethodon elongatus</td>\n",
       "      <td>Del Norte salamander</td>\n",
       "      <td>Domestic</td>\n",
       "      <td>Not Listed</td>\n",
       "      <td>NaN</td>\n",
       "      <td>Salamander, Del Norte</td>\n",
       "      <td>Wherever found</td>\n",
       "    </tr>\n",
       "    <tr>\n",
       "      <th>3</th>\n",
       "      <td>Amphibians</td>\n",
       "      <td>SC</td>\n",
       "      <td>Eurycea aquatica</td>\n",
       "      <td>Dark-sided salamander</td>\n",
       "      <td>Domestic</td>\n",
       "      <td>Not Listed</td>\n",
       "      <td>NaN</td>\n",
       "      <td>Salamander, dark-sided</td>\n",
       "      <td>Wherever found</td>\n",
       "    </tr>\n",
       "    <tr>\n",
       "      <th>4</th>\n",
       "      <td>Amphibians</td>\n",
       "      <td>RT</td>\n",
       "      <td>Bufo retiformis</td>\n",
       "      <td>Sonoran green toad</td>\n",
       "      <td>Both Domestic and Foreign</td>\n",
       "      <td>Not Listed</td>\n",
       "      <td>NaN</td>\n",
       "      <td>Toad, Sonoran green</td>\n",
       "      <td>Wherever found</td>\n",
       "    </tr>\n",
       "  </tbody>\n",
       "</table>\n",
       "</div>"
      ],
      "text/plain": [
       "        Group Status           Scientific Name                  Common Name  \\\n",
       "0       Algae      E  Isogomphodon oxyrhynchus             Daggernose Shark   \n",
       "1  Amphibians     UR      Desmognathus abditus  Cumberland Dusky salamander   \n",
       "2  Amphibians     SC       Plethodon elongatus         Del Norte salamander   \n",
       "3  Amphibians     SC          Eurycea aquatica        Dark-sided salamander   \n",
       "4  Amphibians     RT           Bufo retiformis           Sonoran green toad   \n",
       "\n",
       "                    Location                       Status Category  \\\n",
       "0                    Foreign                                Listed   \n",
       "1                   Domestic  Petitioned for Listing, Under Review   \n",
       "2                   Domestic                            Not Listed   \n",
       "3                   Domestic                            Not Listed   \n",
       "4  Both Domestic and Foreign                            Not Listed   \n",
       "\n",
       "  Listing Date          Inverted Common Name            Area  \n",
       "0          NaN             Shark, Daggernose             NaN  \n",
       "1          NaN  salamander, Cumberland Dusky  Wherever found  \n",
       "2          NaN         Salamander, Del Norte  Wherever found  \n",
       "3          NaN        Salamander, dark-sided  Wherever found  \n",
       "4          NaN           Toad, Sonoran green  Wherever found  "
      ]
     },
     "execution_count": 23,
     "metadata": {},
     "output_type": "execute_result"
    }
   ],
   "source": [
    "species_df = pd.read_csv('esa_species.csv')\n",
    "print(species_df.shape)\n",
    "print(species_df.columns)\n",
    "species_df = species_df[['Group','Status','Scientific Name',\n",
    "                         'Common Name','Location','Status Category',\n",
    "                        'Listing Date','Inverted Common Name','Area']]       \n",
    "species_df.head()"
   ]
  },
  {
   "cell_type": "markdown",
   "id": "bb2edf82",
   "metadata": {},
   "source": [
    "After ordering the data according to group, I noticed an error.\n",
    "At index 0, the Daggernose Shark is listed in the Algae Group."
   ]
  },
  {
   "cell_type": "code",
   "execution_count": 97,
   "id": "d821d78e",
   "metadata": {},
   "outputs": [],
   "source": [
    "#Dropping the the row due to error in data\n",
    "species_df = species_df.drop(index=[0])"
   ]
  },
  {
   "cell_type": "markdown",
   "id": "1a1747c8",
   "metadata": {},
   "source": [
    "There could be further errors in the data that I did not find during data cleaning"
   ]
  },
  {
   "cell_type": "code",
   "execution_count": 100,
   "id": "fcc09f6d",
   "metadata": {},
   "outputs": [
    {
     "data": {
      "text/plain": [
       "<AxesSubplot:xlabel='count', ylabel='Group'>"
      ]
     },
     "execution_count": 100,
     "metadata": {},
     "output_type": "execute_result"
    },
    {
     "data": {
      "image/png": "[encoded data removed]",
      "text/plain": [
       "<Figure size 1080x576 with 1 Axes>"
      ]
     },
     "metadata": {},
     "output_type": "display_data"
    }
   ],
   "source": [
    "# sns.countplot(y=\"Group\", hue=\"Status\", data=species_df, palette=\"rainbow\")"
   ]
  },
  {
   "cell_type": "code",
   "execution_count": null,
   "id": "6f5c1f52",
   "metadata": {},
   "outputs": [],
   "source": []
  },
  {
   "cell_type": "markdown",
   "id": "bcd17e17",
   "metadata": {},
   "source": [
    "## ESA Recovery Plans Data"
   ]
  },
  {
   "cell_type": "code",
   "execution_count": 22,
   "id": "68a0b4fe",
   "metadata": {},
   "outputs": [
    {
     "name": "stdout",
     "output_type": "stream",
     "text": [
      "(1788, 8)\n",
      "Index(['Common Name', 'Scientific Name', 'Area', 'Group',\n",
      "       'Recovery Document Date', 'Status', 'Region', 'Recovery Actions'],\n",
      "      dtype='object')\n"
     ]
    },
    {
     "data": {
      "text/html": [
       "<div>\n",
       "<style scoped>\n",
       "    .dataframe tbody tr th:only-of-type {\n",
       "        vertical-align: middle;\n",
       "    }\n",
       "\n",
       "    .dataframe tbody tr th {\n",
       "        vertical-align: top;\n",
       "    }\n",
       "\n",
       "    .dataframe thead th {\n",
       "        text-align: right;\n",
       "    }\n",
       "</style>\n",
       "<table border=\"1\" class=\"dataframe\">\n",
       "  <thead>\n",
       "    <tr style=\"text-align: right;\">\n",
       "      <th></th>\n",
       "      <th>Group</th>\n",
       "      <th>Status</th>\n",
       "      <th>Scientific Name</th>\n",
       "      <th>Common Name</th>\n",
       "      <th>Recovery Actions</th>\n",
       "      <th>Recovery Document Date</th>\n",
       "      <th>Region</th>\n",
       "      <th>Area</th>\n",
       "    </tr>\n",
       "  </thead>\n",
       "  <tbody>\n",
       "    <tr>\n",
       "      <th>0</th>\n",
       "      <td>Mammals</td>\n",
       "      <td>E</td>\n",
       "      <td>Myotis sodalis</td>\n",
       "      <td>Indiana bat</td>\n",
       "      <td>116.0</td>\n",
       "      <td>2007-04-16</td>\n",
       "      <td>Great Lakes-Big Rivers Region</td>\n",
       "      <td>Wherever found</td>\n",
       "    </tr>\n",
       "    <tr>\n",
       "      <th>1</th>\n",
       "      <td>Mammals</td>\n",
       "      <td>T</td>\n",
       "      <td>Ursus arctos horribilis</td>\n",
       "      <td>Grizzly bear</td>\n",
       "      <td>329.0</td>\n",
       "      <td>1993-09-10</td>\n",
       "      <td>Mountain-Prairie Region</td>\n",
       "      <td>U.S.A., conterminous (lower 48) States, except...</td>\n",
       "    </tr>\n",
       "    <tr>\n",
       "      <th>2</th>\n",
       "      <td>Mammals</td>\n",
       "      <td>T</td>\n",
       "      <td>Odocoileus virginianus leucurus</td>\n",
       "      <td>Columbian white-tailed deer</td>\n",
       "      <td>14.0</td>\n",
       "      <td>1983-06-14</td>\n",
       "      <td>Pacific Region</td>\n",
       "      <td>Columbia River DPS</td>\n",
       "    </tr>\n",
       "    <tr>\n",
       "      <th>3</th>\n",
       "      <td>Mammals</td>\n",
       "      <td>E</td>\n",
       "      <td>Mustela nigripes</td>\n",
       "      <td>Black-footed ferret</td>\n",
       "      <td>84.0</td>\n",
       "      <td>2013-12-23</td>\n",
       "      <td>Mountain-Prairie Region</td>\n",
       "      <td>Wherever found, except where listed as an expe...</td>\n",
       "    </tr>\n",
       "    <tr>\n",
       "      <th>4</th>\n",
       "      <td>Mammals</td>\n",
       "      <td>E</td>\n",
       "      <td>Vulpes macrotis mutica</td>\n",
       "      <td>San Joaquin kit fox</td>\n",
       "      <td>84.0</td>\n",
       "      <td>1998-09-30</td>\n",
       "      <td>California/Nevada Region</td>\n",
       "      <td>wherever found</td>\n",
       "    </tr>\n",
       "  </tbody>\n",
       "</table>\n",
       "</div>"
      ],
      "text/plain": [
       "     Group Status                  Scientific Name  \\\n",
       "0  Mammals      E                   Myotis sodalis   \n",
       "1  Mammals      T          Ursus arctos horribilis   \n",
       "2  Mammals      T  Odocoileus virginianus leucurus   \n",
       "3  Mammals      E                 Mustela nigripes   \n",
       "4  Mammals      E           Vulpes macrotis mutica   \n",
       "\n",
       "                   Common Name  Recovery Actions Recovery Document Date  \\\n",
       "0                  Indiana bat             116.0             2007-04-16   \n",
       "1                 Grizzly bear             329.0             1993-09-10   \n",
       "2  Columbian white-tailed deer              14.0             1983-06-14   \n",
       "3          Black-footed ferret              84.0             2013-12-23   \n",
       "4          San Joaquin kit fox              84.0             1998-09-30   \n",
       "\n",
       "                          Region  \\\n",
       "0  Great Lakes-Big Rivers Region   \n",
       "1        Mountain-Prairie Region   \n",
       "2                 Pacific Region   \n",
       "3        Mountain-Prairie Region   \n",
       "4       California/Nevada Region   \n",
       "\n",
       "                                                Area  \n",
       "0                                     Wherever found  \n",
       "1  U.S.A., conterminous (lower 48) States, except...  \n",
       "2                                 Columbia River DPS  \n",
       "3  Wherever found, except where listed as an expe...  \n",
       "4                                     wherever found  "
      ]
     },
     "execution_count": 22,
     "metadata": {},
     "output_type": "execute_result"
    }
   ],
   "source": [
    "plans_df = pd.read_csv('esa_recovery_plans.csv')\n",
    "print(plans_df.shape)\n",
    "print(plans_df.columns)\n",
    "plans_df = plans_df[['Group','Status','Scientific Name',\n",
    "                    'Common Name','Recovery Actions',\n",
    "                    'Recovery Document Date','Region','Area']]  \n",
    "plans_df.head()"
   ]
  },
  {
   "cell_type": "markdown",
   "id": "d828c620",
   "metadata": {},
   "source": [
    "Let's take a look at the regional distribution of species:"
   ]
  },
  {
   "cell_type": "code",
   "execution_count": 99,
   "id": "7a40899f",
   "metadata": {},
   "outputs": [
    {
     "data": {
      "text/plain": [
       "<AxesSubplot:xlabel='count', ylabel='Region'>"
      ]
     },
     "execution_count": 99,
     "metadata": {},
     "output_type": "execute_result"
    },
    {
     "data": {
      "image/png": "[encoded data removed]",
      "text/plain": [
       "<Figure size 1080x576 with 1 Axes>"
      ]
     },
     "metadata": {},
     "output_type": "display_data"
    }
   ],
   "source": [
    "sns.countplot(y=\"Region\", hue=\"Status\", data=plans_df, palette=\"rainbow\")"
   ]
  },
  {
   "cell_type": "markdown",
   "id": "1812e067",
   "metadata": {},
   "source": [
    "Note: There more recovery plans for endangered species in all regions except Alaska and the Mountain-Prairie Region."
   ]
  },
  {
   "cell_type": "markdown",
   "id": "7bb6f7c5",
   "metadata": {},
   "source": [
    "What is the status distribution per group?"
   ]
  },
  {
   "cell_type": "code",
   "execution_count": 101,
   "id": "23ca0961",
   "metadata": {},
   "outputs": [
    {
     "data": {
      "text/plain": [
       "<AxesSubplot:xlabel='count', ylabel='Group'>"
      ]
     },
     "execution_count": 101,
     "metadata": {},
     "output_type": "execute_result"
    },
    {
     "data": {
      "image/png": "[encoded data removed]",
      "text/plain": [
       "<Figure size 1080x576 with 1 Axes>"
      ]
     },
     "metadata": {},
     "output_type": "display_data"
    }
   ],
   "source": [
    "sns.countplot(y=\"Group\", hue=\"Status\", data=plans_df, palette=\"rainbow\")"
   ]
  },
  {
   "cell_type": "markdown",
   "id": "fbd74d2e",
   "metadata": {},
   "source": [
    "Note: Flowering Plants have more endangered species than any other group"
   ]
  },
  {
   "cell_type": "markdown",
   "id": "e0a54646",
   "metadata": {},
   "source": [
    "## Merged Species and Plans Data"
   ]
  },
  {
   "cell_type": "code",
   "execution_count": 44,
   "id": "993195b7",
   "metadata": {},
   "outputs": [
    {
     "data": {
      "text/html": [
       "<div>\n",
       "<style scoped>\n",
       "    .dataframe tbody tr th:only-of-type {\n",
       "        vertical-align: middle;\n",
       "    }\n",
       "\n",
       "    .dataframe tbody tr th {\n",
       "        vertical-align: top;\n",
       "    }\n",
       "\n",
       "    .dataframe thead th {\n",
       "        text-align: right;\n",
       "    }\n",
       "</style>\n",
       "<table border=\"1\" class=\"dataframe\">\n",
       "  <thead>\n",
       "    <tr style=\"text-align: right;\">\n",
       "      <th></th>\n",
       "      <th>Group</th>\n",
       "      <th>Status</th>\n",
       "      <th>Scientific Name</th>\n",
       "      <th>Common Name</th>\n",
       "      <th>Location</th>\n",
       "      <th>Status Category</th>\n",
       "      <th>Listing Date</th>\n",
       "      <th>Inverted Common Name</th>\n",
       "      <th>Area</th>\n",
       "      <th>Recovery Actions</th>\n",
       "      <th>Recovery Document Date</th>\n",
       "      <th>Region</th>\n",
       "    </tr>\n",
       "  </thead>\n",
       "  <tbody>\n",
       "    <tr>\n",
       "      <th>0</th>\n",
       "      <td>Amphibians</td>\n",
       "      <td>E</td>\n",
       "      <td>Ambystoma mavortium stebbinsi</td>\n",
       "      <td>Sonoran tiger salamander</td>\n",
       "      <td>Both Domestic and Foreign</td>\n",
       "      <td>Listed</td>\n",
       "      <td>1997-01-06</td>\n",
       "      <td>Salamander, Sonoran tiger</td>\n",
       "      <td>Wherever found</td>\n",
       "      <td>38.0</td>\n",
       "      <td>2019-12-06</td>\n",
       "      <td>Southwest Region</td>\n",
       "    </tr>\n",
       "    <tr>\n",
       "      <th>1</th>\n",
       "      <td>Amphibians</td>\n",
       "      <td>E</td>\n",
       "      <td>Ambystoma mavortium stebbinsi</td>\n",
       "      <td>Sonoran tiger salamander</td>\n",
       "      <td>Both Domestic and Foreign</td>\n",
       "      <td>Listed</td>\n",
       "      <td>1997-01-06</td>\n",
       "      <td>Salamander, Sonoran tiger</td>\n",
       "      <td>Wherever found</td>\n",
       "      <td>38.0</td>\n",
       "      <td>2002-09-24</td>\n",
       "      <td>Southwest Region</td>\n",
       "    </tr>\n",
       "    <tr>\n",
       "      <th>2</th>\n",
       "      <td>Amphibians</td>\n",
       "      <td>E</td>\n",
       "      <td>Batrachoseps aridus</td>\n",
       "      <td>Desert slender salamander</td>\n",
       "      <td>Domestic</td>\n",
       "      <td>Listed</td>\n",
       "      <td>1973-06-04</td>\n",
       "      <td>Salamander, desert slender</td>\n",
       "      <td>Wherever found</td>\n",
       "      <td>37.0</td>\n",
       "      <td>1982-08-12</td>\n",
       "      <td>California/Nevada Region</td>\n",
       "    </tr>\n",
       "    <tr>\n",
       "      <th>3</th>\n",
       "      <td>Amphibians</td>\n",
       "      <td>E</td>\n",
       "      <td>Batrachoseps aridus</td>\n",
       "      <td>Desert slender salamander</td>\n",
       "      <td>Domestic</td>\n",
       "      <td>Listed</td>\n",
       "      <td>1973-06-04</td>\n",
       "      <td>Salamander, desert slender</td>\n",
       "      <td>Wherever found</td>\n",
       "      <td>37.0</td>\n",
       "      <td>2019-09-13</td>\n",
       "      <td>California/Nevada Region</td>\n",
       "    </tr>\n",
       "    <tr>\n",
       "      <th>4</th>\n",
       "      <td>Amphibians</td>\n",
       "      <td>T</td>\n",
       "      <td>Eurycea nana</td>\n",
       "      <td>San Marcos salamander</td>\n",
       "      <td>Domestic</td>\n",
       "      <td>Listed</td>\n",
       "      <td>1980-07-14</td>\n",
       "      <td>Salamander, San Marcos</td>\n",
       "      <td>Wherever found</td>\n",
       "      <td>33.0</td>\n",
       "      <td>1996-02-14</td>\n",
       "      <td>Southwest Region</td>\n",
       "    </tr>\n",
       "    <tr>\n",
       "      <th>...</th>\n",
       "      <td>...</td>\n",
       "      <td>...</td>\n",
       "      <td>...</td>\n",
       "      <td>...</td>\n",
       "      <td>...</td>\n",
       "      <td>...</td>\n",
       "      <td>...</td>\n",
       "      <td>...</td>\n",
       "      <td>...</td>\n",
       "      <td>...</td>\n",
       "      <td>...</td>\n",
       "      <td>...</td>\n",
       "    </tr>\n",
       "    <tr>\n",
       "      <th>1740</th>\n",
       "      <td>Snails</td>\n",
       "      <td>E</td>\n",
       "      <td>Lanx sp.</td>\n",
       "      <td>Banbury Springs limpet</td>\n",
       "      <td>Domestic</td>\n",
       "      <td>Listed</td>\n",
       "      <td>1992-12-14</td>\n",
       "      <td>Limpet, Banbury Springs</td>\n",
       "      <td>Wherever found</td>\n",
       "      <td>36.0</td>\n",
       "      <td>1995-11-26</td>\n",
       "      <td>Pacific Region</td>\n",
       "    </tr>\n",
       "    <tr>\n",
       "      <th>1741</th>\n",
       "      <td>Snails</td>\n",
       "      <td>T</td>\n",
       "      <td>Elimia crenatella</td>\n",
       "      <td>Lacy elimia (snail)</td>\n",
       "      <td>Domestic</td>\n",
       "      <td>Listed</td>\n",
       "      <td>1998-10-28</td>\n",
       "      <td>Elimia, lacy (snail)</td>\n",
       "      <td>Wherever found</td>\n",
       "      <td>28.0</td>\n",
       "      <td>2005-12-02</td>\n",
       "      <td>Southeast Region</td>\n",
       "    </tr>\n",
       "    <tr>\n",
       "      <th>1742</th>\n",
       "      <td>Snails</td>\n",
       "      <td>E</td>\n",
       "      <td>Physa natricina</td>\n",
       "      <td>Snake River physa snail</td>\n",
       "      <td>Domestic</td>\n",
       "      <td>Listed</td>\n",
       "      <td>1992-12-14</td>\n",
       "      <td>Snail, Snake River physa</td>\n",
       "      <td>Wherever found</td>\n",
       "      <td>33.0</td>\n",
       "      <td>1995-11-26</td>\n",
       "      <td>Pacific Region</td>\n",
       "    </tr>\n",
       "    <tr>\n",
       "      <th>1743</th>\n",
       "      <td>Snails</td>\n",
       "      <td>E</td>\n",
       "      <td>Ostodes strigatus</td>\n",
       "      <td>Snail [no common name]</td>\n",
       "      <td>Domestic</td>\n",
       "      <td>Listed</td>\n",
       "      <td>2016-10-24</td>\n",
       "      <td>[no common name] Snail</td>\n",
       "      <td>Wherever found</td>\n",
       "      <td>NaN</td>\n",
       "      <td>2021-11-10</td>\n",
       "      <td>Pacific Region</td>\n",
       "    </tr>\n",
       "    <tr>\n",
       "      <th>1744</th>\n",
       "      <td>Snails</td>\n",
       "      <td>E</td>\n",
       "      <td>Eua zebrina</td>\n",
       "      <td>Snail [no common name]</td>\n",
       "      <td>Domestic</td>\n",
       "      <td>Listed</td>\n",
       "      <td>2016-10-24</td>\n",
       "      <td>[no common name] Snail</td>\n",
       "      <td>Wherever found</td>\n",
       "      <td>NaN</td>\n",
       "      <td>2021-11-10</td>\n",
       "      <td>Pacific Region</td>\n",
       "    </tr>\n",
       "  </tbody>\n",
       "</table>\n",
       "<p>1745 rows × 12 columns</p>\n",
       "</div>"
      ],
      "text/plain": [
       "           Group Status                Scientific Name  \\\n",
       "0     Amphibians      E  Ambystoma mavortium stebbinsi   \n",
       "1     Amphibians      E  Ambystoma mavortium stebbinsi   \n",
       "2     Amphibians      E            Batrachoseps aridus   \n",
       "3     Amphibians      E            Batrachoseps aridus   \n",
       "4     Amphibians      T                   Eurycea nana   \n",
       "...          ...    ...                            ...   \n",
       "1740      Snails      E                       Lanx sp.   \n",
       "1741      Snails      T              Elimia crenatella   \n",
       "1742      Snails      E                Physa natricina   \n",
       "1743      Snails      E              Ostodes strigatus   \n",
       "1744      Snails      E                    Eua zebrina   \n",
       "\n",
       "                    Common Name                   Location Status Category  \\\n",
       "0      Sonoran tiger salamander  Both Domestic and Foreign          Listed   \n",
       "1      Sonoran tiger salamander  Both Domestic and Foreign          Listed   \n",
       "2     Desert slender salamander                   Domestic          Listed   \n",
       "3     Desert slender salamander                   Domestic          Listed   \n",
       "4         San Marcos salamander                   Domestic          Listed   \n",
       "...                         ...                        ...             ...   \n",
       "1740     Banbury Springs limpet                   Domestic          Listed   \n",
       "1741        Lacy elimia (snail)                   Domestic          Listed   \n",
       "1742    Snake River physa snail                   Domestic          Listed   \n",
       "1743     Snail [no common name]                   Domestic          Listed   \n",
       "1744     Snail [no common name]                   Domestic          Listed   \n",
       "\n",
       "     Listing Date        Inverted Common Name            Area  \\\n",
       "0      1997-01-06   Salamander, Sonoran tiger  Wherever found   \n",
       "1      1997-01-06   Salamander, Sonoran tiger  Wherever found   \n",
       "2      1973-06-04  Salamander, desert slender  Wherever found   \n",
       "3      1973-06-04  Salamander, desert slender  Wherever found   \n",
       "4      1980-07-14      Salamander, San Marcos  Wherever found   \n",
       "...           ...                         ...             ...   \n",
       "1740   1992-12-14     Limpet, Banbury Springs  Wherever found   \n",
       "1741   1998-10-28        Elimia, lacy (snail)  Wherever found   \n",
       "1742   1992-12-14    Snail, Snake River physa  Wherever found   \n",
       "1743   2016-10-24      [no common name] Snail  Wherever found   \n",
       "1744   2016-10-24      [no common name] Snail  Wherever found   \n",
       "\n",
       "      Recovery Actions Recovery Document Date                    Region  \n",
       "0                 38.0             2019-12-06          Southwest Region  \n",
       "1                 38.0             2002-09-24          Southwest Region  \n",
       "2                 37.0             1982-08-12  California/Nevada Region  \n",
       "3                 37.0             2019-09-13  California/Nevada Region  \n",
       "4                 33.0             1996-02-14          Southwest Region  \n",
       "...                ...                    ...                       ...  \n",
       "1740              36.0             1995-11-26            Pacific Region  \n",
       "1741              28.0             2005-12-02          Southeast Region  \n",
       "1742              33.0             1995-11-26            Pacific Region  \n",
       "1743               NaN             2021-11-10            Pacific Region  \n",
       "1744               NaN             2021-11-10            Pacific Region  \n",
       "\n",
       "[1745 rows x 12 columns]"
      ]
     },
     "execution_count": 44,
     "metadata": {},
     "output_type": "execute_result"
    }
   ],
   "source": [
    "species_df.merge(plans_df, how=\"inner\", \n",
    "                 on=['Common Name','Scientific Name','Status','Group','Area'])"
   ]
  },
  {
   "cell_type": "markdown",
   "id": "2e2e6427",
   "metadata": {},
   "source": [
    "I attempted to merge expenditures data with ESA recovery plans data to see if there was a relationship between funding and recovery actions.\n",
    "I was surprised to find that the result produced only 1 row..."
   ]
  },
  {
   "cell_type": "code",
   "execution_count": 90,
   "id": "d9e34446",
   "metadata": {},
   "outputs": [
    {
     "data": {
      "text/html": [
       "<div>\n",
       "<style scoped>\n",
       "    .dataframe tbody tr th:only-of-type {\n",
       "        vertical-align: middle;\n",
       "    }\n",
       "\n",
       "    .dataframe tbody tr th {\n",
       "        vertical-align: top;\n",
       "    }\n",
       "\n",
       "    .dataframe thead th {\n",
       "        text-align: right;\n",
       "    }\n",
       "</style>\n",
       "<table border=\"1\" class=\"dataframe\">\n",
       "  <thead>\n",
       "    <tr style=\"text-align: right;\">\n",
       "      <th></th>\n",
       "      <th>Group</th>\n",
       "      <th>Status</th>\n",
       "      <th>Scientific Name</th>\n",
       "      <th>Inverted Common Name</th>\n",
       "      <th>FWS 2018</th>\n",
       "      <th>Other Fed 2018</th>\n",
       "      <th>States 2018</th>\n",
       "      <th>Total 2018</th>\n",
       "      <th>Area</th>\n",
       "      <th>Common Name</th>\n",
       "      <th>Recovery Actions</th>\n",
       "      <th>Recovery Document Date</th>\n",
       "      <th>Region</th>\n",
       "    </tr>\n",
       "  </thead>\n",
       "  <tbody>\n",
       "    <tr>\n",
       "      <th>0</th>\n",
       "      <td>Flowering Plants</td>\n",
       "      <td>E</td>\n",
       "      <td>Scirpus ancistrochaetus</td>\n",
       "      <td>Bulrush, Northeastern</td>\n",
       "      <td>75395</td>\n",
       "      <td>13440</td>\n",
       "      <td>8038</td>\n",
       "      <td>96873</td>\n",
       "      <td>NaN</td>\n",
       "      <td>Northeastern bulrush</td>\n",
       "      <td>35.0</td>\n",
       "      <td>1993-08-25</td>\n",
       "      <td>Northeast Region</td>\n",
       "    </tr>\n",
       "  </tbody>\n",
       "</table>\n",
       "</div>"
      ],
      "text/plain": [
       "              Group Status          Scientific Name    Inverted Common Name  \\\n",
       "0  Flowering Plants      E  Scirpus ancistrochaetus  Bulrush, Northeastern    \n",
       "\n",
       "   FWS 2018  Other Fed 2018  States 2018  Total 2018 Area  \\\n",
       "0     75395           13440         8038       96873  NaN   \n",
       "\n",
       "            Common Name  Recovery Actions Recovery Document Date  \\\n",
       "0  Northeastern bulrush              35.0             1993-08-25   \n",
       "\n",
       "             Region  \n",
       "0  Northeast Region  "
      ]
     },
     "execution_count": 90,
     "metadata": {},
     "output_type": "execute_result"
    }
   ],
   "source": [
    "expend2018_df.merge(plans_df, how=\"inner\", \n",
    "                 on=['Group','Scientific Name', 'Status', 'Area'])"
   ]
  },
  {
   "cell_type": "markdown",
   "id": "1771ddbb",
   "metadata": {},
   "source": [
    "Only 1 row in common with the current FWS species data"
   ]
  },
  {
   "cell_type": "code",
   "execution_count": 96,
   "id": "7f5cfb2e",
   "metadata": {},
   "outputs": [
    {
     "data": {
      "text/html": [
       "<div>\n",
       "<style scoped>\n",
       "    .dataframe tbody tr th:only-of-type {\n",
       "        vertical-align: middle;\n",
       "    }\n",
       "\n",
       "    .dataframe tbody tr th {\n",
       "        vertical-align: top;\n",
       "    }\n",
       "\n",
       "    .dataframe thead th {\n",
       "        text-align: right;\n",
       "    }\n",
       "</style>\n",
       "<table border=\"1\" class=\"dataframe\">\n",
       "  <thead>\n",
       "    <tr style=\"text-align: right;\">\n",
       "      <th></th>\n",
       "      <th>Group</th>\n",
       "      <th>Status</th>\n",
       "      <th>Scientific Name</th>\n",
       "      <th>Inverted Common Name_x</th>\n",
       "      <th>FWS 2018</th>\n",
       "      <th>Other Fed 2018</th>\n",
       "      <th>States 2018</th>\n",
       "      <th>Total 2018</th>\n",
       "      <th>Area</th>\n",
       "      <th>Common Name</th>\n",
       "      <th>Location</th>\n",
       "      <th>Status Category</th>\n",
       "      <th>Listing Date</th>\n",
       "      <th>Inverted Common Name_y</th>\n",
       "    </tr>\n",
       "  </thead>\n",
       "  <tbody>\n",
       "    <tr>\n",
       "      <th>0</th>\n",
       "      <td>Flowering Plants</td>\n",
       "      <td>E</td>\n",
       "      <td>Scirpus ancistrochaetus</td>\n",
       "      <td>Bulrush, Northeastern</td>\n",
       "      <td>75395</td>\n",
       "      <td>13440</td>\n",
       "      <td>8038</td>\n",
       "      <td>96873</td>\n",
       "      <td>NaN</td>\n",
       "      <td>Northeastern bulrush</td>\n",
       "      <td>Domestic</td>\n",
       "      <td>Listed</td>\n",
       "      <td>1991-05-07</td>\n",
       "      <td>Bulrush, Northeastern</td>\n",
       "    </tr>\n",
       "  </tbody>\n",
       "</table>\n",
       "</div>"
      ],
      "text/plain": [
       "              Group Status          Scientific Name  Inverted Common Name_x  \\\n",
       "0  Flowering Plants      E  Scirpus ancistrochaetus  Bulrush, Northeastern    \n",
       "\n",
       "   FWS 2018  Other Fed 2018  States 2018  Total 2018 Area  \\\n",
       "0     75395           13440         8038       96873  NaN   \n",
       "\n",
       "            Common Name  Location Status Category Listing Date  \\\n",
       "0  Northeastern bulrush  Domestic          Listed   1991-05-07   \n",
       "\n",
       "  Inverted Common Name_y  \n",
       "0  Bulrush, Northeastern  "
      ]
     },
     "execution_count": 96,
     "metadata": {},
     "output_type": "execute_result"
    }
   ],
   "source": [
    "expend2018_df.merge(species_df, how=\"inner\", \n",
    "                 on=['Group','Scientific Name', 'Status', 'Area'])"
   ]
  },
  {
   "cell_type": "markdown",
   "id": "1e4244e0",
   "metadata": {},
   "source": [
    "No rows in common for the 2017 data..."
   ]
  },
  {
   "cell_type": "code",
   "execution_count": 94,
   "id": "0098a37f",
   "metadata": {},
   "outputs": [
    {
     "data": {
      "text/html": [
       "<div>\n",
       "<style scoped>\n",
       "    .dataframe tbody tr th:only-of-type {\n",
       "        vertical-align: middle;\n",
       "    }\n",
       "\n",
       "    .dataframe tbody tr th {\n",
       "        vertical-align: top;\n",
       "    }\n",
       "\n",
       "    .dataframe thead th {\n",
       "        text-align: right;\n",
       "    }\n",
       "</style>\n",
       "<table border=\"1\" class=\"dataframe\">\n",
       "  <thead>\n",
       "    <tr style=\"text-align: right;\">\n",
       "      <th></th>\n",
       "      <th>Group</th>\n",
       "      <th>Status</th>\n",
       "      <th>Scientific Name</th>\n",
       "      <th>Inverted Common Name</th>\n",
       "      <th>FWS 2017</th>\n",
       "      <th>Other Fed 2017</th>\n",
       "      <th>States 2017</th>\n",
       "      <th>Total 2017</th>\n",
       "      <th>Area</th>\n",
       "      <th>Common Name</th>\n",
       "      <th>Recovery Actions</th>\n",
       "      <th>Recovery Document Date</th>\n",
       "      <th>Region</th>\n",
       "    </tr>\n",
       "  </thead>\n",
       "  <tbody>\n",
       "  </tbody>\n",
       "</table>\n",
       "</div>"
      ],
      "text/plain": [
       "Empty DataFrame\n",
       "Columns: [Group, Status, Scientific Name, Inverted Common Name, FWS 2017, Other Fed 2017, States 2017, Total 2017, Area, Common Name, Recovery Actions, Recovery Document Date, Region]\n",
       "Index: []"
      ]
     },
     "execution_count": 94,
     "metadata": {},
     "output_type": "execute_result"
    }
   ],
   "source": [
    "expend2017_df.merge(plans_df, how=\"inner\", \n",
    "                 on=['Group','Scientific Name', 'Status', 'Area'])"
   ]
  },
  {
   "cell_type": "markdown",
   "id": "7d72dbc2",
   "metadata": {},
   "source": [
    "Only 1 row in common with the current FWS species data"
   ]
  },
  {
   "cell_type": "code",
   "execution_count": 95,
   "id": "104b9b7f",
   "metadata": {},
   "outputs": [
    {
     "data": {
      "text/html": [
       "<div>\n",
       "<style scoped>\n",
       "    .dataframe tbody tr th:only-of-type {\n",
       "        vertical-align: middle;\n",
       "    }\n",
       "\n",
       "    .dataframe tbody tr th {\n",
       "        vertical-align: top;\n",
       "    }\n",
       "\n",
       "    .dataframe thead th {\n",
       "        text-align: right;\n",
       "    }\n",
       "</style>\n",
       "<table border=\"1\" class=\"dataframe\">\n",
       "  <thead>\n",
       "    <tr style=\"text-align: right;\">\n",
       "      <th></th>\n",
       "      <th>Group</th>\n",
       "      <th>Status</th>\n",
       "      <th>Scientific Name</th>\n",
       "      <th>Inverted Common Name_x</th>\n",
       "      <th>FWS 2017</th>\n",
       "      <th>Other Fed 2017</th>\n",
       "      <th>States 2017</th>\n",
       "      <th>Total 2017</th>\n",
       "      <th>Area</th>\n",
       "      <th>Common Name</th>\n",
       "      <th>Location</th>\n",
       "      <th>Status Category</th>\n",
       "      <th>Listing Date</th>\n",
       "      <th>Inverted Common Name_y</th>\n",
       "    </tr>\n",
       "  </thead>\n",
       "  <tbody>\n",
       "    <tr>\n",
       "      <th>0</th>\n",
       "      <td>Fishes</td>\n",
       "      <td>T</td>\n",
       "      <td>Epinephelus striatus</td>\n",
       "      <td>Grouper, Nassau</td>\n",
       "      <td>0</td>\n",
       "      <td>464945</td>\n",
       "      <td>0</td>\n",
       "      <td>464945</td>\n",
       "      <td>NaN</td>\n",
       "      <td>Nassau grouper</td>\n",
       "      <td>Both Domestic and Foreign</td>\n",
       "      <td>Listed</td>\n",
       "      <td>2016-07-29</td>\n",
       "      <td>grouper, Nassau</td>\n",
       "    </tr>\n",
       "  </tbody>\n",
       "</table>\n",
       "</div>"
      ],
      "text/plain": [
       "    Group Status       Scientific Name Inverted Common Name_x  FWS 2017  \\\n",
       "0  Fishes      T  Epinephelus striatus       Grouper, Nassau          0   \n",
       "\n",
       "   Other Fed 2017  States 2017  Total 2017 Area     Common Name  \\\n",
       "0          464945            0      464945  NaN  Nassau grouper   \n",
       "\n",
       "                    Location Status Category Listing Date  \\\n",
       "0  Both Domestic and Foreign          Listed   2016-07-29   \n",
       "\n",
       "  Inverted Common Name_y  \n",
       "0        grouper, Nassau  "
      ]
     },
     "execution_count": 95,
     "metadata": {},
     "output_type": "execute_result"
    }
   ],
   "source": [
    "expend2017_df.merge(species_df, how=\"inner\", \n",
    "                 on=['Group','Scientific Name', 'Status', 'Area'])"
   ]
  },
  {
   "cell_type": "code",
   "execution_count": null,
   "id": "c8d45a72",
   "metadata": {},
   "outputs": [],
   "source": []
  }
 ],
 "metadata": {
  "kernelspec": {
   "display_name": "Python 3 (ipykernel)",
   "language": "python",
   "name": "python3"
  },
  "language_info": {
   "codemirror_mode": {
    "name": "ipython",
    "version": 3
   },
   "file_extension": ".py",
   "mimetype": "text/x-python",
   "name": "python",
   "nbconvert_exporter": "python",
   "pygments_lexer": "ipython3",
   "version": "3.9.7"
  }
 },
 "nbformat": 4,
 "nbformat_minor": 5
}
