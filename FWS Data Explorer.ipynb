{
 "cells": [
  {
   "cell_type": "markdown",
   "id": "2f6020c1",
   "metadata": {},
   "source": [
    "# FWS Endangered Species Data"
   ]
  },
  {
   "cell_type": "markdown",
   "id": "35b6b2bb",
   "metadata": {},
   "source": [
    "### Data Source:"
   ]
  },
  {
   "cell_type": "markdown",
   "id": "eaea910c",
   "metadata": {},
   "source": [
    "Endangered Species Data was collected from the FWS Data Explorer: https://ecos.fws.gov/ecp/report/adhocCreator?catalogId=species&reportId=species&columns=%2Fspecies@cn,sn,status,desc,listing_date&sort=%2Fspecies@cn%20asc;%2Fspecies@sn%20asc"
   ]
  },
  {
   "cell_type": "markdown",
   "id": "3986321f",
   "metadata": {},
   "source": [
    "### Module Imports:"
   ]
  },
  {
   "cell_type": "code",
   "execution_count": 1,
   "id": "2da2bfdb",
   "metadata": {},
   "outputs": [],
   "source": [
    "#import necessary modules\n",
    "import pandas as pd\n",
    "import numpy as np\n",
    "import seaborn as sns\n",
    "from matplotlib import pyplot as plt\n",
    "%matplotlib inline\n",
    "plt.style.use('ggplot')\n",
    "sns.set(rc  = {'figure.figsize':(15,8)}, color_codes=True)"
   ]
  },
  {
   "cell_type": "markdown",
   "id": "d343cd8d",
   "metadata": {},
   "source": [
    "### Data Cleaning:"
   ]
  },
  {
   "cell_type": "code",
   "execution_count": 2,
   "id": "e1ef9d2b",
   "metadata": {},
   "outputs": [],
   "source": [
    "df = pd.read_csv('FWS_Species_Data_Explorer.csv')"
   ]
  },
  {
   "cell_type": "code",
   "execution_count": 3,
   "id": "838c5fbc",
   "metadata": {},
   "outputs": [
    {
     "name": "stdout",
     "output_type": "stream",
     "text": [
      "Common Name             object\n",
      "Scientific Name         object\n",
      "Scientific Name_url     object\n",
      "ESA Listing Status      object\n",
      "Entity Description      object\n",
      "ESA Listing Date        object\n",
      "Foreign or Domestic     object\n",
      "Inverted Common Name    object\n",
      "Species Group           object\n",
      "Status Category         object\n",
      "dtype: object\n"
     ]
    },
    {
     "data": {
      "text/plain": [
       "Index(['Common Name', 'Scientific Name', 'Scientific Name_url',\n",
       "       'ESA Listing Status', 'Entity Description', 'ESA Listing Date',\n",
       "       'Foreign or Domestic', 'Inverted Common Name', 'Species Group',\n",
       "       'Status Category'],\n",
       "      dtype='object')"
      ]
     },
     "execution_count": 3,
     "metadata": {},
     "output_type": "execute_result"
    }
   ],
   "source": [
    "# check data types and column names\n",
    "print(df.dtypes)\n",
    "\n",
    "df.columns"
   ]
  },
  {
   "cell_type": "code",
   "execution_count": 4,
   "id": "ee46d049",
   "metadata": {},
   "outputs": [
    {
     "data": {
      "text/html": [
       "<div>\n",
       "<style scoped>\n",
       "    .dataframe tbody tr th:only-of-type {\n",
       "        vertical-align: middle;\n",
       "    }\n",
       "\n",
       "    .dataframe tbody tr th {\n",
       "        vertical-align: top;\n",
       "    }\n",
       "\n",
       "    .dataframe thead th {\n",
       "        text-align: right;\n",
       "    }\n",
       "</style>\n",
       "<table border=\"1\" class=\"dataframe\">\n",
       "  <thead>\n",
       "    <tr style=\"text-align: right;\">\n",
       "      <th></th>\n",
       "      <th>Common Name</th>\n",
       "      <th>Scientific Name</th>\n",
       "      <th>Scientific Name_url</th>\n",
       "      <th>ESA Listing Status</th>\n",
       "      <th>Entity Description</th>\n",
       "      <th>ESA Listing Date</th>\n",
       "      <th>Foreign or Domestic</th>\n",
       "      <th>Inverted Common Name</th>\n",
       "      <th>Species Group</th>\n",
       "      <th>Status Category</th>\n",
       "    </tr>\n",
       "  </thead>\n",
       "  <tbody>\n",
       "    <tr>\n",
       "      <th>0</th>\n",
       "      <td>Aaa water treader bug</td>\n",
       "      <td>Cavaticovelia aaa</td>\n",
       "      <td>https://ecos.fws.gov/ecp/species/8146</td>\n",
       "      <td>Species of Concern</td>\n",
       "      <td>Wherever found</td>\n",
       "      <td>NaN</td>\n",
       "      <td>Domestic</td>\n",
       "      <td>Bug, Aaa water treader</td>\n",
       "      <td>Insects</td>\n",
       "      <td>Not Listed</td>\n",
       "    </tr>\n",
       "    <tr>\n",
       "      <th>1</th>\n",
       "      <td>Aalbu's cave pseudoscorpion</td>\n",
       "      <td>Archeolarca aalbui</td>\n",
       "      <td>https://ecos.fws.gov/ecp/species/6406</td>\n",
       "      <td>Species of Concern</td>\n",
       "      <td>Wherever found</td>\n",
       "      <td>NaN</td>\n",
       "      <td>Domestic</td>\n",
       "      <td>Pseudoscorpion, Aalbu's cave</td>\n",
       "      <td>Arachnids</td>\n",
       "      <td>Not Listed</td>\n",
       "    </tr>\n",
       "    <tr>\n",
       "      <th>2</th>\n",
       "      <td>Aardhals springsnail</td>\n",
       "      <td>Pyrgulopsis aardahli</td>\n",
       "      <td>https://ecos.fws.gov/ecp/species/4789</td>\n",
       "      <td>Species of Concern</td>\n",
       "      <td>Wherever found</td>\n",
       "      <td>NaN</td>\n",
       "      <td>Domestic</td>\n",
       "      <td>Springsnail, Aardhals</td>\n",
       "      <td>Snails</td>\n",
       "      <td>Not Listed</td>\n",
       "    </tr>\n",
       "    <tr>\n",
       "      <th>3</th>\n",
       "      <td>Aase's onion</td>\n",
       "      <td>Allium aaseae</td>\n",
       "      <td>https://ecos.fws.gov/ecp/species/2608</td>\n",
       "      <td>Species of Concern</td>\n",
       "      <td>Wherever found</td>\n",
       "      <td>NaN</td>\n",
       "      <td>Domestic</td>\n",
       "      <td>Onion, Aase's</td>\n",
       "      <td>Flowering Plants</td>\n",
       "      <td>Not Listed</td>\n",
       "    </tr>\n",
       "    <tr>\n",
       "      <th>4</th>\n",
       "      <td>Abajo daisy</td>\n",
       "      <td>Erigeron abajoensis</td>\n",
       "      <td>https://ecos.fws.gov/ecp/species/6559</td>\n",
       "      <td>Resolved Taxon</td>\n",
       "      <td>Wherever found</td>\n",
       "      <td>NaN</td>\n",
       "      <td>Domestic</td>\n",
       "      <td>Daisy, Abajo</td>\n",
       "      <td>Flowering Plants</td>\n",
       "      <td>Not Listed</td>\n",
       "    </tr>\n",
       "  </tbody>\n",
       "</table>\n",
       "</div>"
      ],
      "text/plain": [
       "                   Common Name       Scientific Name  \\\n",
       "0        Aaa water treader bug     Cavaticovelia aaa   \n",
       "1  Aalbu's cave pseudoscorpion    Archeolarca aalbui   \n",
       "2         Aardhals springsnail  Pyrgulopsis aardahli   \n",
       "3                 Aase's onion         Allium aaseae   \n",
       "4                  Abajo daisy   Erigeron abajoensis   \n",
       "\n",
       "                     Scientific Name_url  ESA Listing Status  \\\n",
       "0  https://ecos.fws.gov/ecp/species/8146  Species of Concern   \n",
       "1  https://ecos.fws.gov/ecp/species/6406  Species of Concern   \n",
       "2  https://ecos.fws.gov/ecp/species/4789  Species of Concern   \n",
       "3  https://ecos.fws.gov/ecp/species/2608  Species of Concern   \n",
       "4  https://ecos.fws.gov/ecp/species/6559      Resolved Taxon   \n",
       "\n",
       "  Entity Description ESA Listing Date Foreign or Domestic  \\\n",
       "0     Wherever found              NaN            Domestic   \n",
       "1     Wherever found              NaN            Domestic   \n",
       "2     Wherever found              NaN            Domestic   \n",
       "3     Wherever found              NaN            Domestic   \n",
       "4     Wherever found              NaN            Domestic   \n",
       "\n",
       "           Inverted Common Name     Species Group Status Category  \n",
       "0        Bug, Aaa water treader           Insects      Not Listed  \n",
       "1  Pseudoscorpion, Aalbu's cave         Arachnids      Not Listed  \n",
       "2         Springsnail, Aardhals            Snails      Not Listed  \n",
       "3                 Onion, Aase's  Flowering Plants      Not Listed  \n",
       "4                  Daisy, Abajo  Flowering Plants      Not Listed  "
      ]
     },
     "execution_count": 4,
     "metadata": {},
     "output_type": "execute_result"
    }
   ],
   "source": [
    "#check to see how the data frame looks\n",
    "df.head()"
   ]
  },
  {
   "cell_type": "markdown",
   "id": "8a2a6cbe",
   "metadata": {},
   "source": [
    "Dropping extra columns and renaming columns for consistency across dataframes:"
   ]
  },
  {
   "cell_type": "code",
   "execution_count": 5,
   "id": "7f3a0bfd",
   "metadata": {},
   "outputs": [],
   "source": [
    "# Drop the columns that we will not use for the analysis\n",
    "df = df.drop(['Scientific Name_url'], axis = 1)\n",
    "\n",
    "#Change data type to date time\n",
    "df[\"ESA Listing Date\"] = pd.to_datetime(df[\"ESA Listing Date\"])\n",
    "\n",
    "# Rename the rest of the columns for easier accessing\n",
    "df = df.rename(columns={'Entity Description':'Area',\n",
    "                        'Species Group':'Group',\n",
    "                        'ESA Listing Status':'Status',\n",
    "                        'Foreign or Domestic':'Location',\n",
    "                        'ESA Listing Date':'Listing Date'\n",
    "                        })"
   ]
  },
  {
   "cell_type": "markdown",
   "id": "acb5a96a",
   "metadata": {},
   "source": [
    "Keeping continuity across the project:"
   ]
  },
  {
   "cell_type": "code",
   "execution_count": 6,
   "id": "bd9a7560",
   "metadata": {},
   "outputs": [],
   "source": [
    "# convert the long format ESA Listing Status to short code according\n",
    "# to FWS status codes\n",
    "#source: https://ecos.fws.gov/ecp0/html/db-status.html\n",
    "status_codes = {\n",
    "    'Species of Concern':'SC','Resolved Taxon':'RT','Endangered':'E', \n",
    "    'Threatened':'T','Under Review':'UR','Status Undefined':'SU',\n",
    "    'Experimental Population, Non-Essential':'EXPN, XN','Recovery':'R',\n",
    "    'Proposed Threatened':'PT','Candidate':'C',\n",
    "    'Proposed Endangered':'PE','Not Listed':'NL',\n",
    "    'Similarity of Appearance (Threatened)':'SAT','Extinction':'D3A',\n",
    "    'Original Data in Error - Taxonomic Revision':'DR', \n",
    "    'Original Data in Error - New Information Discovered':'DP',\n",
    "    'Original Data in Error - Not a listable entity':'DNS',\n",
    "    'Original Data in Error - Act Amendment':'DA',\n",
    "    'Original Data in Error - Erroneous Data':'DO',\n",
    "    'Proposed Similarity of Appearance (Threatened)':'PSAT, PT',\n",
    "    'Pre-Act Delisted Taxon':'Unlist',\n",
    "    'Emergency Listing, Endangered':'EmE',\n",
    "}\n",
    "\n",
    "\n",
    "df['Status'] = df['Status'].apply(lambda x : status_codes[x])"
   ]
  },
  {
   "cell_type": "code",
   "execution_count": 7,
   "id": "a4d29251",
   "metadata": {
    "scrolled": true
   },
   "outputs": [
    {
     "name": "stdout",
     "output_type": "stream",
     "text": [
      "(10318, 9)\n"
     ]
    },
    {
     "data": {
      "text/html": [
       "<div>\n",
       "<style scoped>\n",
       "    .dataframe tbody tr th:only-of-type {\n",
       "        vertical-align: middle;\n",
       "    }\n",
       "\n",
       "    .dataframe tbody tr th {\n",
       "        vertical-align: top;\n",
       "    }\n",
       "\n",
       "    .dataframe thead th {\n",
       "        text-align: right;\n",
       "    }\n",
       "</style>\n",
       "<table border=\"1\" class=\"dataframe\">\n",
       "  <thead>\n",
       "    <tr style=\"text-align: right;\">\n",
       "      <th></th>\n",
       "      <th>Common Name</th>\n",
       "      <th>Scientific Name</th>\n",
       "      <th>Status</th>\n",
       "      <th>Area</th>\n",
       "      <th>Listing Date</th>\n",
       "      <th>Location</th>\n",
       "      <th>Inverted Common Name</th>\n",
       "      <th>Group</th>\n",
       "      <th>Status Category</th>\n",
       "    </tr>\n",
       "  </thead>\n",
       "  <tbody>\n",
       "    <tr>\n",
       "      <th>0</th>\n",
       "      <td>Aaa water treader bug</td>\n",
       "      <td>Cavaticovelia aaa</td>\n",
       "      <td>SC</td>\n",
       "      <td>Wherever found</td>\n",
       "      <td>NaT</td>\n",
       "      <td>Domestic</td>\n",
       "      <td>Bug, Aaa water treader</td>\n",
       "      <td>Insects</td>\n",
       "      <td>Not Listed</td>\n",
       "    </tr>\n",
       "    <tr>\n",
       "      <th>1</th>\n",
       "      <td>Aalbu's cave pseudoscorpion</td>\n",
       "      <td>Archeolarca aalbui</td>\n",
       "      <td>SC</td>\n",
       "      <td>Wherever found</td>\n",
       "      <td>NaT</td>\n",
       "      <td>Domestic</td>\n",
       "      <td>Pseudoscorpion, Aalbu's cave</td>\n",
       "      <td>Arachnids</td>\n",
       "      <td>Not Listed</td>\n",
       "    </tr>\n",
       "    <tr>\n",
       "      <th>2</th>\n",
       "      <td>Aardhals springsnail</td>\n",
       "      <td>Pyrgulopsis aardahli</td>\n",
       "      <td>SC</td>\n",
       "      <td>Wherever found</td>\n",
       "      <td>NaT</td>\n",
       "      <td>Domestic</td>\n",
       "      <td>Springsnail, Aardhals</td>\n",
       "      <td>Snails</td>\n",
       "      <td>Not Listed</td>\n",
       "    </tr>\n",
       "    <tr>\n",
       "      <th>3</th>\n",
       "      <td>Aase's onion</td>\n",
       "      <td>Allium aaseae</td>\n",
       "      <td>SC</td>\n",
       "      <td>Wherever found</td>\n",
       "      <td>NaT</td>\n",
       "      <td>Domestic</td>\n",
       "      <td>Onion, Aase's</td>\n",
       "      <td>Flowering Plants</td>\n",
       "      <td>Not Listed</td>\n",
       "    </tr>\n",
       "    <tr>\n",
       "      <th>4</th>\n",
       "      <td>Abajo daisy</td>\n",
       "      <td>Erigeron abajoensis</td>\n",
       "      <td>RT</td>\n",
       "      <td>Wherever found</td>\n",
       "      <td>NaT</td>\n",
       "      <td>Domestic</td>\n",
       "      <td>Daisy, Abajo</td>\n",
       "      <td>Flowering Plants</td>\n",
       "      <td>Not Listed</td>\n",
       "    </tr>\n",
       "  </tbody>\n",
       "</table>\n",
       "</div>"
      ],
      "text/plain": [
       "                   Common Name       Scientific Name Status            Area  \\\n",
       "0        Aaa water treader bug     Cavaticovelia aaa     SC  Wherever found   \n",
       "1  Aalbu's cave pseudoscorpion    Archeolarca aalbui     SC  Wherever found   \n",
       "2         Aardhals springsnail  Pyrgulopsis aardahli     SC  Wherever found   \n",
       "3                 Aase's onion         Allium aaseae     SC  Wherever found   \n",
       "4                  Abajo daisy   Erigeron abajoensis     RT  Wherever found   \n",
       "\n",
       "  Listing Date  Location          Inverted Common Name             Group  \\\n",
       "0          NaT  Domestic        Bug, Aaa water treader           Insects   \n",
       "1          NaT  Domestic  Pseudoscorpion, Aalbu's cave         Arachnids   \n",
       "2          NaT  Domestic         Springsnail, Aardhals            Snails   \n",
       "3          NaT  Domestic                 Onion, Aase's  Flowering Plants   \n",
       "4          NaT  Domestic                  Daisy, Abajo  Flowering Plants   \n",
       "\n",
       "  Status Category  \n",
       "0      Not Listed  \n",
       "1      Not Listed  \n",
       "2      Not Listed  \n",
       "3      Not Listed  \n",
       "4      Not Listed  "
      ]
     },
     "execution_count": 7,
     "metadata": {},
     "output_type": "execute_result"
    }
   ],
   "source": [
    "# checking the cleaning process\n",
    "print(df.shape)\n",
    "df.head()"
   ]
  },
  {
   "cell_type": "code",
   "execution_count": 8,
   "id": "642d50cb",
   "metadata": {},
   "outputs": [
    {
     "data": {
      "text/html": [
       "<div>\n",
       "<style scoped>\n",
       "    .dataframe tbody tr th:only-of-type {\n",
       "        vertical-align: middle;\n",
       "    }\n",
       "\n",
       "    .dataframe tbody tr th {\n",
       "        vertical-align: top;\n",
       "    }\n",
       "\n",
       "    .dataframe thead th {\n",
       "        text-align: right;\n",
       "    }\n",
       "</style>\n",
       "<table border=\"1\" class=\"dataframe\">\n",
       "  <thead>\n",
       "    <tr style=\"text-align: right;\">\n",
       "      <th></th>\n",
       "      <th>Group</th>\n",
       "      <th>Status</th>\n",
       "      <th>Scientific Name</th>\n",
       "      <th>Common Name</th>\n",
       "      <th>Location</th>\n",
       "      <th>Status Category</th>\n",
       "      <th>Listing Date</th>\n",
       "      <th>Inverted Common Name</th>\n",
       "      <th>Area</th>\n",
       "    </tr>\n",
       "  </thead>\n",
       "  <tbody>\n",
       "    <tr>\n",
       "      <th>0</th>\n",
       "      <td>Algae</td>\n",
       "      <td>E</td>\n",
       "      <td>Isogomphodon oxyrhynchus</td>\n",
       "      <td>Daggernose Shark</td>\n",
       "      <td>Foreign</td>\n",
       "      <td>Listed</td>\n",
       "      <td>NaT</td>\n",
       "      <td>Shark, Daggernose</td>\n",
       "      <td>NaN</td>\n",
       "    </tr>\n",
       "    <tr>\n",
       "      <th>1</th>\n",
       "      <td>Amphibians</td>\n",
       "      <td>UR</td>\n",
       "      <td>Desmognathus abditus</td>\n",
       "      <td>Cumberland Dusky salamander</td>\n",
       "      <td>Domestic</td>\n",
       "      <td>Petitioned for Listing, Under Review</td>\n",
       "      <td>NaT</td>\n",
       "      <td>salamander, Cumberland Dusky</td>\n",
       "      <td>Wherever found</td>\n",
       "    </tr>\n",
       "    <tr>\n",
       "      <th>2</th>\n",
       "      <td>Amphibians</td>\n",
       "      <td>SC</td>\n",
       "      <td>Plethodon elongatus</td>\n",
       "      <td>Del Norte salamander</td>\n",
       "      <td>Domestic</td>\n",
       "      <td>Not Listed</td>\n",
       "      <td>NaT</td>\n",
       "      <td>Salamander, Del Norte</td>\n",
       "      <td>Wherever found</td>\n",
       "    </tr>\n",
       "    <tr>\n",
       "      <th>3</th>\n",
       "      <td>Amphibians</td>\n",
       "      <td>SC</td>\n",
       "      <td>Eurycea aquatica</td>\n",
       "      <td>Dark-sided salamander</td>\n",
       "      <td>Domestic</td>\n",
       "      <td>Not Listed</td>\n",
       "      <td>NaT</td>\n",
       "      <td>Salamander, dark-sided</td>\n",
       "      <td>Wherever found</td>\n",
       "    </tr>\n",
       "    <tr>\n",
       "      <th>4</th>\n",
       "      <td>Amphibians</td>\n",
       "      <td>RT</td>\n",
       "      <td>Bufo retiformis</td>\n",
       "      <td>Sonoran green toad</td>\n",
       "      <td>Both Domestic and Foreign</td>\n",
       "      <td>Not Listed</td>\n",
       "      <td>NaT</td>\n",
       "      <td>Toad, Sonoran green</td>\n",
       "      <td>Wherever found</td>\n",
       "    </tr>\n",
       "  </tbody>\n",
       "</table>\n",
       "</div>"
      ],
      "text/plain": [
       "        Group Status           Scientific Name                  Common Name  \\\n",
       "0       Algae      E  Isogomphodon oxyrhynchus             Daggernose Shark   \n",
       "1  Amphibians     UR      Desmognathus abditus  Cumberland Dusky salamander   \n",
       "2  Amphibians     SC       Plethodon elongatus         Del Norte salamander   \n",
       "3  Amphibians     SC          Eurycea aquatica        Dark-sided salamander   \n",
       "4  Amphibians     RT           Bufo retiformis           Sonoran green toad   \n",
       "\n",
       "                    Location                       Status Category  \\\n",
       "0                    Foreign                                Listed   \n",
       "1                   Domestic  Petitioned for Listing, Under Review   \n",
       "2                   Domestic                            Not Listed   \n",
       "3                   Domestic                            Not Listed   \n",
       "4  Both Domestic and Foreign                            Not Listed   \n",
       "\n",
       "  Listing Date          Inverted Common Name            Area  \n",
       "0          NaT             Shark, Daggernose             NaN  \n",
       "1          NaT  salamander, Cumberland Dusky  Wherever found  \n",
       "2          NaT         Salamander, Del Norte  Wherever found  \n",
       "3          NaT        Salamander, dark-sided  Wherever found  \n",
       "4          NaT           Toad, Sonoran green  Wherever found  "
      ]
     },
     "execution_count": 8,
     "metadata": {},
     "output_type": "execute_result"
    }
   ],
   "source": [
    "#Changing the order of the columns displayed\n",
    "df = df[['Group','Status','Scientific Name','Common Name',\n",
    "         'Location','Status Category', 'Listing Date',\n",
    "         'Inverted Common Name','Area']] \n",
    "\n",
    "#sorting the values by 'Group' and resetting the index\n",
    "df.sort_values(by=['Group'], inplace=True)\n",
    "df = df.reset_index()\n",
    "df = df.drop(['index'], axis = 1)\n",
    "\n",
    "df.head()"
   ]
  },
  {
   "cell_type": "markdown",
   "id": "93f44d2e",
   "metadata": {},
   "source": [
    "Checking the null values: Because many of the species are not listed under the ESA, I am expecting null values"
   ]
  },
  {
   "cell_type": "code",
   "execution_count": 9,
   "id": "6d5ce2dd",
   "metadata": {},
   "outputs": [
    {
     "name": "stdout",
     "output_type": "stream",
     "text": [
      "Group                      0\n",
      "Status                     0\n",
      "Scientific Name            0\n",
      "Common Name                0\n",
      "Location                  72\n",
      "Status Category           13\n",
      "Listing Date            7771\n",
      "Inverted Common Name       0\n",
      "Area                     371\n",
      "dtype: int64\n"
     ]
    }
   ],
   "source": [
    "print(df.isnull().sum())"
   ]
  },
  {
   "cell_type": "markdown",
   "id": "b7328101",
   "metadata": {},
   "source": [
    "Now the dataframe is ready for analysis. I convert the copy (without subtotals) to a new csv"
   ]
  },
  {
   "cell_type": "code",
   "execution_count": 10,
   "id": "1ab52dc4",
   "metadata": {},
   "outputs": [],
   "source": [
    "df.to_csv('esa_species.csv', index=False)"
   ]
  }
 ],
 "metadata": {
  "kernelspec": {
   "display_name": "Python 3 (ipykernel)",
   "language": "python",
   "name": "python3"
  },
  "language_info": {
   "codemirror_mode": {
    "name": "ipython",
    "version": 3
   },
   "file_extension": ".py",
   "mimetype": "text/x-python",
   "name": "python",
   "nbconvert_exporter": "python",
   "pygments_lexer": "ipython3",
   "version": "3.9.7"
  }
 },
 "nbformat": 4,
 "nbformat_minor": 5
}
